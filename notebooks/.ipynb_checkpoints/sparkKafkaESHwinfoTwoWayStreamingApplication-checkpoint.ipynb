{
 "cells": [
  {
   "cell_type": "code",
   "execution_count": 11,
   "id": "78bca7ff-2507-4b07-8f94-bed79547b6fb",
   "metadata": {},
   "outputs": [],
   "source": [
    "from pyspark.sql import SparkSession\n",
    "from pyspark.sql.types import StructType, DoubleType, StringType, IntegerType, StructField\n",
    "from pyspark.sql.functions import col, split, trim\n",
    "from pyspark.sql.functions import regexp_replace"
   ]
  },
  {
   "cell_type": "code",
   "execution_count": 12,
   "id": "cb3ad465-1cb6-45fe-b444-4cd3b55dfab9",
   "metadata": {},
   "outputs": [],
   "source": [
    "spark = SparkSession.builder \\\n",
    "    .appName(\"KafkaToElasticsearchHwinfoLogs\") \\\n",
    "    .config(\"spark.jars.packages\", \"org.apache.spark:spark-sql-kafka-0-10_2.12:3.3.2,org.elasticsearch:elasticsearch-spark-30_2.12:8.10.1\") \\\n",
    "    .getOrCreate()"
   ]
  },
  {
   "cell_type": "code",
   "execution_count": 13,
   "id": "bfa38a85-878b-4482-b4d7-8c8848761397",
   "metadata": {},
   "outputs": [
    {
     "data": {
      "text/html": [
       "\n",
       "            <div>\n",
       "                <p><b>SparkSession - in-memory</b></p>\n",
       "                \n",
       "        <div>\n",
       "            <p><b>SparkContext</b></p>\n",
       "\n",
       "            <p><a href=\"http://6b0816de4193:4040\">Spark UI</a></p>\n",
       "\n",
       "            <dl>\n",
       "              <dt>Version</dt>\n",
       "                <dd><code>v3.3.0</code></dd>\n",
       "              <dt>Master</dt>\n",
       "                <dd><code>local[*]</code></dd>\n",
       "              <dt>AppName</dt>\n",
       "                <dd><code>KafkaToElasticsearchHwinfoLogs</code></dd>\n",
       "            </dl>\n",
       "        </div>\n",
       "        \n",
       "            </div>\n",
       "        "
      ],
      "text/plain": [
       "<pyspark.sql.session.SparkSession at 0x7fd9c8034250>"
      ]
     },
     "execution_count": 13,
     "metadata": {},
     "output_type": "execute_result"
    }
   ],
   "source": [
    "spark"
   ]
  },
  {
   "cell_type": "code",
   "execution_count": 14,
   "id": "06024619-eb89-4a6c-96cc-0f38d271ebb9",
   "metadata": {},
   "outputs": [],
   "source": [
    "df_kafka = spark.readStream \\\n",
    "    .format(\"kafka\") \\\n",
    "    .option(\"kafka.bootstrap.servers\", \"kafka:9092\") \\\n",
    "    .option(\"subscribe\", \"hwinfo\") \\\n",
    "    .option(\"startingOffsets\", \"latest\") \\\n",
    "    .option(\"failOnDataLoss\", \"false\") \\\n",
    "    .load()\n"
   ]
  },
  {
   "cell_type": "code",
   "execution_count": 15,
   "id": "b46245df-de02-43a4-b7b7-1918d1ecec79",
   "metadata": {},
   "outputs": [],
   "source": [
    "hwinfo_schema = StructType([\n",
    "    StructField(\"Date\", StringType(), True),\n",
    "    StructField(\"Time\", StringType(), True),\n",
    "    StructField(\"Core_Clocks_avg_MHz\", IntegerType(), True),\n",
    "    StructField(\"Bus_Clock_MHz\", DoubleType(), True),\n",
    "    StructField(\"Core_Usage_avg_percent\", DoubleType(), True),\n",
    "    StructField(\"Core_Temperatures_avg_C\", DoubleType(), True),\n",
    "    StructField(\"CPU_Package_C\", IntegerType(), True),\n",
    "    StructField(\"CPU_Package_Power_W\", DoubleType(), True),\n",
    "])\n",
    "# hwinfo_schema"
   ]
  },
  {
   "cell_type": "code",
   "execution_count": 16,
   "id": "25abe702-2350-4f1a-9f17-829868ec442a",
   "metadata": {},
   "outputs": [],
   "source": [
    "# converting the binary shit show to what the it should actually represent\n",
    "json_data = df_kafka.selectExpr(\"CAST(value AS STRING)\").alias(\"strings\")"
   ]
  },
  {
   "cell_type": "code",
   "execution_count": 17,
   "id": "50db8ed7-60cf-47f4-90d4-a06b74742126",
   "metadata": {},
   "outputs": [],
   "source": [
    "df_parsed = json_data.selectExpr(\"CAST(value AS STRING)\")\n",
    "\n",
    "df_final = df_parsed.withColumn(\"value\", regexp_replace(col(\"value\"), \"[\\\\[\\\\]']\", \"\")) \n",
    "df_final = df_final.select(\n",
    "    split(col(\"value\"), \",\")[0].alias(\"Date\"),\n",
    "    split(col(\"value\"), \",\")[1].alias(\"Time\"),\n",
    "    split(col(\"value\"), \",\")[2].cast(\"FLOAT\").alias(\"Core_Clocks_avg_MHz\"),\n",
    "    split(col(\"value\"), \",\")[3].cast(\"FLOAT\").alias(\"Ring_LLC_Clock_MHz\"),\n",
    "    split(col(\"value\"), \",\")[4].cast(\"FLOAT\").alias(\"Core_Usage_avg_percent\"),\n",
    "    split(col(\"value\"), \",\")[5].cast(\"FLOAT\").alias(\"Core_Temperatures_avg_C\"),\n",
    "    split(col(\"value\"), \",\")[6].cast(\"FLOAT\").alias(\"CPU_Package_C\"),\n",
    "    split(col(\"value\"), \",\")[7].cast(\"FLOAT\").alias(\"CPU_Package_Power_W\")\n",
    ")\n",
    "\n",
    "# df_final"
   ]
  },
  {
   "cell_type": "code",
   "execution_count": 18,
   "id": "af9c2047-565f-4162-8964-7a39726cab9b",
   "metadata": {},
   "outputs": [],
   "source": [
    "# initiating two streaming from here"
   ]
  },
  {
   "cell_type": "code",
   "execution_count": 19,
   "id": "8f50cd3b-2dd3-4f68-8edf-0b57c361c3ec",
   "metadata": {},
   "outputs": [],
   "source": [
    "# stream sink 1 : going directly to elasticsearch for future querying and other random nonsense\n",
    "# use resource = \"hwinfo\" for production\n",
    "# use resource = \"hwinfo_test\" for testing\n",
    "\n",
    "es_query = df_final.writeStream \\\n",
    "    .outputMode(\"append\") \\\n",
    "    .format(\"org.elasticsearch.spark.sql\") \\\n",
    "    .option(\"es.nodes\", \"elasticsearch\") \\\n",
    "    .option(\"es.port\", \"9200\") \\\n",
    "    .option(\"es.resource\", \"hwinfo_test\") \\\n",
    "    .option(\"es.net.ssl\", \"false\") \\\n",
    "    .option(\"checkpointLocation\", \"/tmp/spark-checkpoints\") \\\n",
    "    .start()\n",
    "\n",
    "# # stream sink 2: used for serving the real time dashboard, stream to a kafka topic that will do all the necessary shit\n",
    "kafka_query = df_final.selectExpr(\"to_json(struct(*)) AS value\") \\\n",
    "    .writeStream \\\n",
    "    .outputMode(\"append\") \\\n",
    "    .format(\"kafka\") \\\n",
    "    .option(\"kafka.bootstrap.servers\", \"kafka:9092\") \\\n",
    "    .option(\"topic\", \"hwinfo_logs_RT\") \\\n",
    "    .option(\"checkpointLocation\", \"/tmp/spark-checkpoints-RT\") \\\n",
    "    .start()\n",
    "\n",
    "# under testing \n",
    "\n",
    "# Write messages to console\n",
    "# query = df_final.writeStream \\\n",
    "#     .outputMode(\"append\") \\\n",
    "#     .format(\"console\") \\\n",
    "#     .start()\n",
    "\n",
    "\n",
    "# stream sink 2: used for serving the real time dashboard, stream to a kafka topic that will do all the necessary shit\n",
    "# kafka_query = df_final.writeStream \\\n",
    "#     .outputMode(\"append\") \\\n",
    "#     .format(\"kafka\") \\\n",
    "#     .option(\"kafka.bootstrap.servers\", \"kafka:9092\") \\\n",
    "#     .option(\"topic\", \"hwinfo_logs_RT\") \\\n",
    "#     .option(\"checkpointLocation\", \"/tmp/spark-checkpoints-RT\") \\\n",
    "#     .start()\n",
    "\n",
    "# the above code should error out since kafka needs value as a message"
   ]
  },
  {
   "cell_type": "code",
   "execution_count": 20,
   "id": "d4e2e9b2-4ed6-4e71-b607-254c3e58450e",
   "metadata": {},
   "outputs": [],
   "source": [
    "es_query.stop()\n",
    "kafka_query.stop()\n",
    "\n",
    "# es_query = df_final.writeStream \\\n",
    "#     .outputMode(\"append\") \\\n",
    "#     .format(\"org.elasticsearch.spark.sql\") \\\n",
    "#     .option(\"es.nodes\", \"elasticsearch\") \\\n",
    "#     .option(\"es.port\", \"9200\") \\\n",
    "#     .option(\"es.resource\", \"hwinfo\") \\\n",
    "#     .option(\"es.net.ssl\", \"false\") \\\n",
    "#     .option(\"checkpointLocation\", \"/tmp/spark-checkpoints\") \\\n",
    "#     .start()"
   ]
  },
  {
   "cell_type": "code",
   "execution_count": null,
   "id": "f41dd8a2-15dc-4a29-a98f-2fce9b8f264e",
   "metadata": {},
   "outputs": [],
   "source": []
  }
 ],
 "metadata": {
  "kernelspec": {
   "display_name": "Python 3 (ipykernel)",
   "language": "python",
   "name": "python3"
  },
  "language_info": {
   "codemirror_mode": {
    "name": "ipython",
    "version": 3
   },
   "file_extension": ".py",
   "mimetype": "text/x-python",
   "name": "python",
   "nbconvert_exporter": "python",
   "pygments_lexer": "ipython3",
   "version": "3.9.13"
  }
 },
 "nbformat": 4,
 "nbformat_minor": 5
}
