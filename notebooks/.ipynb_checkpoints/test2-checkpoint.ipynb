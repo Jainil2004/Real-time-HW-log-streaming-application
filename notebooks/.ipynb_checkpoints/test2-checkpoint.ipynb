{
 "cells": [
  {
   "cell_type": "code",
   "execution_count": null,
   "id": "151cbb15-89c9-44cf-9e88-b1b2191d1ea5",
   "metadata": {},
   "outputs": [],
   "source": [
    "from pyspark import SparkContext\n",
    "from pyspark.streaming import StreamingContext\n",
    "\n",
    "# Step 1: Create SparkContext and StreamingContext with batch interval of 5 seconds\n",
    "sc = SparkContext.getOrCreate()\n",
    "ssc = StreamingContext(sc, 5)\n",
    "\n",
    "# Step 2: Create a DStream from a socket source (listening on port 9999)\n",
    "socket_stream = ssc.socketTextStream(\"localhost\", 9999)\n",
    "\n",
    "# Step 3: Perform word count on the incoming stream\n",
    "words = socket_stream.flatMap(lambda line: line.split(\" \"))\n",
    "word_counts = words.map(lambda word: (word, 1)).reduceByKey(lambda a, b: a + b)\n",
    "\n",
    "# Step 4: Print results\n",
    "word_counts.pprint()\n",
    "\n",
    "# Step 5: Start streaming\n",
    "ssc.start()\n",
    "ssc.awaitTermination()"
   ]
  }
 ],
 "metadata": {
  "kernelspec": {
   "display_name": "Python 3 (ipykernel)",
   "language": "python",
   "name": "python3"
  },
  "language_info": {
   "codemirror_mode": {
    "name": "ipython",
    "version": 3
   },
   "file_extension": ".py",
   "mimetype": "text/x-python",
   "name": "python",
   "nbconvert_exporter": "python",
   "pygments_lexer": "ipython3",
   "version": "3.9.13"
  }
 },
 "nbformat": 4,
 "nbformat_minor": 5
}
