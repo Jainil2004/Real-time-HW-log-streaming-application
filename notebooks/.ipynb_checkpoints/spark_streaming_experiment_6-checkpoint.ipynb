{
 "cells": [
  {
   "cell_type": "code",
   "execution_count": 1,
   "id": "3ac55ad2-3b3f-4ab6-ab69-c4da30ede42e",
   "metadata": {},
   "outputs": [],
   "source": [
    "from pyspark.sql import SparkSession\n",
    "from pyspark.sql.types import StructType, StringType, StructField, TimestampType, IntegerType\n",
    "from pyspark.sql.functions import col, split, expr, current_timestamp"
   ]
  },
  {
   "cell_type": "code",
   "execution_count": 2,
   "id": "3a10004d-9103-480a-a433-2de29bbefdb7",
   "metadata": {},
   "outputs": [],
   "source": [
    "spark = SparkSession.builder.master(\"local\").appName(\"exp_6_Watermarking\").getOrCreate()"
   ]
  },
  {
   "cell_type": "code",
   "execution_count": 3,
   "id": "ad1bfa71-1100-4c9e-8a49-c97792608fbf",
   "metadata": {},
   "outputs": [
    {
     "data": {
      "text/html": [
       "\n",
       "            <div>\n",
       "                <p><b>SparkSession - in-memory</b></p>\n",
       "                \n",
       "        <div>\n",
       "            <p><b>SparkContext</b></p>\n",
       "\n",
       "            <p><a href=\"http://92833857b9b5:4040\">Spark UI</a></p>\n",
       "\n",
       "            <dl>\n",
       "              <dt>Version</dt>\n",
       "                <dd><code>v3.3.0</code></dd>\n",
       "              <dt>Master</dt>\n",
       "                <dd><code>local</code></dd>\n",
       "              <dt>AppName</dt>\n",
       "                <dd><code>exp_6_Watermarking</code></dd>\n",
       "            </dl>\n",
       "        </div>\n",
       "        \n",
       "            </div>\n",
       "        "
      ],
      "text/plain": [
       "<pyspark.sql.session.SparkSession at 0x7f10e0512d60>"
      ]
     },
     "execution_count": 3,
     "metadata": {},
     "output_type": "execute_result"
    }
   ],
   "source": [
    "spark"
   ]
  },
  {
   "cell_type": "code",
   "execution_count": 4,
   "id": "5e14275f-828a-447b-807f-8dc0cf2a300d",
   "metadata": {},
   "outputs": [],
   "source": [
    "schema = StructType([\n",
    "StructField(\"name\", StringType(), True),\n",
    "StructField(\"value\", IntegerType(), True)\n",
    "])"
   ]
  },
  {
   "cell_type": "code",
   "execution_count": 5,
   "id": "162d52fe-e22f-4b12-8971-5327f39bcec4",
   "metadata": {},
   "outputs": [
    {
     "data": {
      "text/plain": [
       "StructType([StructField('name', StringType(), True), StructField('value', IntegerType(), True)])"
      ]
     },
     "execution_count": 5,
     "metadata": {},
     "output_type": "execute_result"
    }
   ],
   "source": [
    "schema"
   ]
  },
  {
   "cell_type": "code",
   "execution_count": 6,
   "id": "14ef4e61-f09e-42ff-9f45-455a62de227e",
   "metadata": {},
   "outputs": [],
   "source": [
    "streaming_df = spark.readStream.format(\"socket\").option(\"host\", \"localhost\").option(\"port\", 9999).load()"
   ]
  },
  {
   "cell_type": "code",
   "execution_count": 7,
   "id": "590e3c9d-22c3-4b36-8cab-e4609a7383ff",
   "metadata": {},
   "outputs": [],
   "source": [
    "parsed_stream = streaming_df.withColumn(\"name\", split(col(\"value\"), \",\")[0]) \\\n",
    ".withColumn(\"value\", split(col(\"value\"), \",\")[1]) \\\n",
    ".withColumn(\"timestamp\", current_timestamp())"
   ]
  },
  {
   "cell_type": "code",
   "execution_count": 8,
   "id": "867f5734-ed82-416f-a44b-072b0b68f73e",
   "metadata": {},
   "outputs": [],
   "source": [
    "watermarked_stream = parsed_stream.withWatermark(\"timestamp\", \"1 minute\")"
   ]
  },
  {
   "cell_type": "code",
   "execution_count": 9,
   "id": "a6ef507c-886d-470b-a76a-8d9b08d99ac3",
   "metadata": {},
   "outputs": [],
   "source": [
    "aggregated_stream = watermarked_stream.groupBy(\"name\") \\\n",
    ".agg(expr(\"sum(value) as total_val\"))"
   ]
  },
  {
   "cell_type": "code",
   "execution_count": 10,
   "id": "ad7dd5b9-9063-406c-8269-a35add5dd379",
   "metadata": {},
   "outputs": [],
   "source": [
    "query = aggregated_stream.writeStream.outputMode(\"update\").format(\"console\").start()"
   ]
  },
  {
   "cell_type": "code",
   "execution_count": null,
   "id": "2e5828f7-36dc-4b8e-89bd-3d7befa525ac",
   "metadata": {},
   "outputs": [],
   "source": []
  }
 ],
 "metadata": {
  "kernelspec": {
   "display_name": "Python 3 (ipykernel)",
   "language": "python",
   "name": "python3"
  },
  "language_info": {
   "codemirror_mode": {
    "name": "ipython",
    "version": 3
   },
   "file_extension": ".py",
   "mimetype": "text/x-python",
   "name": "python",
   "nbconvert_exporter": "python",
   "pygments_lexer": "ipython3",
   "version": "3.9.13"
  }
 },
 "nbformat": 4,
 "nbformat_minor": 5
}
