{
 "cells": [
  {
   "cell_type": "code",
   "execution_count": 1,
   "id": "ffa755fd-04fe-4635-8506-a0c35e29c6c5",
   "metadata": {},
   "outputs": [
    {
     "name": "stdout",
     "output_type": "stream",
     "text": [
      "Collecting elasticsearch==8.10.1\n",
      "  Downloading elasticsearch-8.10.1-py3-none-any.whl (409 kB)\n",
      "\u001b[2K     \u001b[90m━━━━━━━━━━━━━━━━━━━━━━━━━━━━━━━━━━━━━━━\u001b[0m \u001b[32m409.3/409.3 kB\u001b[0m \u001b[31m1.1 MB/s\u001b[0m eta \u001b[36m0:00:00\u001b[0m00:01\u001b[0m00:01\u001b[0m\n",
      "\u001b[?25hCollecting elastic-transport<9,>=8\n",
      "  Downloading elastic_transport-8.17.1-py3-none-any.whl (64 kB)\n",
      "\u001b[2K     \u001b[90m━━━━━━━━━━━━━━━━━━━━━━━━━━━━━━━━━━━━━━━━\u001b[0m \u001b[32m65.0/65.0 kB\u001b[0m \u001b[31m3.8 MB/s\u001b[0m eta \u001b[36m0:00:00\u001b[0m\n",
      "\u001b[?25hRequirement already satisfied: urllib3<3,>=1.26.2 in /opt/conda/lib/python3.9/site-packages (from elastic-transport<9,>=8->elasticsearch==8.10.1) (1.26.11)\n",
      "Requirement already satisfied: certifi in /opt/conda/lib/python3.9/site-packages (from elastic-transport<9,>=8->elasticsearch==8.10.1) (2022.9.24)\n",
      "Installing collected packages: elastic-transport, elasticsearch\n",
      "Successfully installed elastic-transport-8.17.1 elasticsearch-8.10.1\n"
     ]
    }
   ],
   "source": [
    "# !pip install elasticsearch==8.10.1"
   ]
  },
  {
   "cell_type": "code",
   "execution_count": 1,
   "id": "0c271a48-dcb5-426b-b534-f60c02741bbc",
   "metadata": {},
   "outputs": [],
   "source": [
    "from elasticsearch import Elasticsearch"
   ]
  },
  {
   "cell_type": "code",
   "execution_count": 2,
   "id": "2914ba8f-c7ec-4aba-b535-65a36a718c7c",
   "metadata": {},
   "outputs": [],
   "source": [
    "es = Elasticsearch(hosts=[\"http://elasticsearch:9200\"])"
   ]
  },
  {
   "cell_type": "code",
   "execution_count": 3,
   "id": "ba8d3d3d-e89f-49c7-b111-ab85934339cc",
   "metadata": {},
   "outputs": [
    {
     "name": "stdout",
     "output_type": "stream",
     "text": [
      "Successfully connected to Elasticsearch!\n"
     ]
    }
   ],
   "source": [
    "# Test the connection\n",
    "if es.ping():\n",
    "    print(\"Successfully connected to Elasticsearch!\")\n",
    "else:\n",
    "    print(\"Could not connect to Elasticsearch.\")"
   ]
  },
  {
   "cell_type": "code",
   "execution_count": 4,
   "id": "dfa53471-6f6a-451d-8109-ea78d18842fb",
   "metadata": {},
   "outputs": [
    {
     "data": {
      "text/plain": [
       "<Elasticsearch(['http://elasticsearch:9200'])>"
      ]
     },
     "execution_count": 4,
     "metadata": {},
     "output_type": "execute_result"
    }
   ],
   "source": [
    "es"
   ]
  },
  {
   "cell_type": "code",
   "execution_count": 5,
   "id": "44233ffa-c32a-4a8b-90ed-5bb40ab3b063",
   "metadata": {},
   "outputs": [
    {
     "data": {
      "text/plain": [
       "True"
      ]
     },
     "execution_count": 5,
     "metadata": {},
     "output_type": "execute_result"
    }
   ],
   "source": [
    "es.ping()"
   ]
  },
  {
   "cell_type": "code",
   "execution_count": 6,
   "id": "bb505851-a27e-4b68-8d76-534da15d9436",
   "metadata": {},
   "outputs": [
    {
     "ename": "BadRequestError",
     "evalue": "BadRequestError(400, 'parsing_exception', 'unknown query [coreThermalThrottling]')",
     "output_type": "error",
     "traceback": [
      "\u001b[0;31m---------------------------------------------------------------------------\u001b[0m",
      "\u001b[0;31mBadRequestError\u001b[0m                           Traceback (most recent call last)",
      "Cell \u001b[0;32mIn [6], line 20\u001b[0m\n\u001b[1;32m      1\u001b[0m \u001b[38;5;66;03m# Perform a 'match_all' query to fetch all documents from your index (replace 'my_index' with your actual index name)\u001b[39;00m\n\u001b[1;32m      2\u001b[0m \u001b[38;5;66;03m# response = es.search(index=\"hwinfo_test\", body={\u001b[39;00m\n\u001b[1;32m      3\u001b[0m \u001b[38;5;66;03m#     \"query\": {\u001b[39;00m\n\u001b[0;32m   (...)\u001b[0m\n\u001b[1;32m     17\u001b[0m \u001b[38;5;66;03m#     }\u001b[39;00m\n\u001b[1;32m     18\u001b[0m \u001b[38;5;66;03m# })\u001b[39;00m\n\u001b[0;32m---> 20\u001b[0m response \u001b[38;5;241m=\u001b[39m \u001b[43mes\u001b[49m\u001b[38;5;241;43m.\u001b[39;49m\u001b[43msearch\u001b[49m\u001b[43m(\u001b[49m\u001b[43mindex\u001b[49m\u001b[43m \u001b[49m\u001b[38;5;241;43m=\u001b[39;49m\u001b[43m \u001b[49m\u001b[38;5;124;43m\"\u001b[39;49m\u001b[38;5;124;43mhwinfo_test\u001b[39;49m\u001b[38;5;124;43m\"\u001b[39;49m\u001b[43m,\u001b[49m\u001b[43m \u001b[49m\u001b[43mbody\u001b[49m\u001b[43m \u001b[49m\u001b[38;5;241;43m=\u001b[39;49m\u001b[43m \u001b[49m\u001b[43m{\u001b[49m\n\u001b[1;32m     21\u001b[0m \u001b[43m    \u001b[49m\u001b[38;5;124;43m\"\u001b[39;49m\u001b[38;5;124;43mquery\u001b[39;49m\u001b[38;5;124;43m\"\u001b[39;49m\u001b[43m:\u001b[49m\u001b[43m \u001b[49m\u001b[43m{\u001b[49m\n\u001b[1;32m     22\u001b[0m \u001b[43m        \u001b[49m\u001b[38;5;124;43m\"\u001b[39;49m\u001b[38;5;124;43mcoreThermalThrottling\u001b[39;49m\u001b[38;5;124;43m\"\u001b[39;49m\u001b[43m:\u001b[49m\u001b[43m \u001b[49m\u001b[43m{\u001b[49m\n\u001b[1;32m     23\u001b[0m \u001b[43m        \u001b[49m\u001b[38;5;124;43m\"\u001b[39;49m\u001b[38;5;124;43mfield\u001b[39;49m\u001b[38;5;124;43m\"\u001b[39;49m\u001b[43m:\u001b[49m\u001b[43m \u001b[49m\u001b[38;5;124;43m\"\u001b[39;49m\u001b[38;5;124;43mCore_Thermal_Throttling\u001b[39;49m\u001b[38;5;124;43m\"\u001b[39;49m\u001b[43m,\u001b[49m\n\u001b[1;32m     24\u001b[0m \u001b[43m        \u001b[49m\u001b[38;5;124;43m\"\u001b[39;49m\u001b[38;5;124;43mcondition\u001b[39;49m\u001b[38;5;124;43m\"\u001b[39;49m\u001b[43m:\u001b[49m\u001b[43m \u001b[49m\u001b[43m{\u001b[49m\u001b[38;5;124;43m\"\u001b[39;49m\u001b[38;5;124;43mterm\u001b[39;49m\u001b[38;5;124;43m\"\u001b[39;49m\u001b[43m:\u001b[49m\u001b[43m \u001b[49m\u001b[43m{\u001b[49m\u001b[38;5;124;43m\"\u001b[39;49m\u001b[38;5;124;43mCore_Thermal_Throttling\u001b[39;49m\u001b[38;5;124;43m\"\u001b[39;49m\u001b[43m:\u001b[49m\u001b[43m \u001b[49m\u001b[38;5;241;43m1\u001b[39;49m\u001b[43m}\u001b[49m\u001b[43m}\u001b[49m\n\u001b[1;32m     25\u001b[0m \u001b[43m        \u001b[49m\u001b[43m}\u001b[49m\n\u001b[1;32m     26\u001b[0m \u001b[43m    \u001b[49m\u001b[43m}\u001b[49m\n\u001b[1;32m     27\u001b[0m \u001b[43m}\u001b[49m\u001b[43m)\u001b[49m\n",
      "File \u001b[0;32m/opt/conda/lib/python3.9/site-packages/elasticsearch/_sync/client/utils.py:402\u001b[0m, in \u001b[0;36m_rewrite_parameters.<locals>.wrapper.<locals>.wrapped\u001b[0;34m(*args, **kwargs)\u001b[0m\n\u001b[1;32m    399\u001b[0m         \u001b[38;5;28;01mexcept\u001b[39;00m \u001b[38;5;167;01mKeyError\u001b[39;00m:\n\u001b[1;32m    400\u001b[0m             \u001b[38;5;28;01mpass\u001b[39;00m\n\u001b[0;32m--> 402\u001b[0m \u001b[38;5;28;01mreturn\u001b[39;00m \u001b[43mapi\u001b[49m\u001b[43m(\u001b[49m\u001b[38;5;241;43m*\u001b[39;49m\u001b[43margs\u001b[49m\u001b[43m,\u001b[49m\u001b[43m \u001b[49m\u001b[38;5;241;43m*\u001b[39;49m\u001b[38;5;241;43m*\u001b[39;49m\u001b[43mkwargs\u001b[49m\u001b[43m)\u001b[49m\n",
      "File \u001b[0;32m/opt/conda/lib/python3.9/site-packages/elasticsearch/_sync/client/__init__.py:3673\u001b[0m, in \u001b[0;36mElasticsearch.search\u001b[0;34m(self, index, aggregations, aggs, allow_no_indices, allow_partial_search_results, analyze_wildcard, analyzer, batched_reduce_size, ccs_minimize_roundtrips, collapse, default_operator, df, docvalue_fields, error_trace, expand_wildcards, explain, ext, fields, filter_path, from_, highlight, human, ignore_throttled, ignore_unavailable, indices_boost, knn, lenient, max_concurrent_shard_requests, min_compatible_shard_node, min_score, pit, post_filter, pre_filter_shard_size, preference, pretty, profile, q, query, rank, request_cache, rescore, rest_total_hits_as_int, routing, runtime_mappings, script_fields, scroll, search_after, search_type, seq_no_primary_term, size, slice, sort, source, source_excludes, source_includes, stats, stored_fields, suggest, suggest_field, suggest_mode, suggest_size, suggest_text, terminate_after, timeout, track_scores, track_total_hits, typed_keys, version)\u001b[0m\n\u001b[1;32m   3671\u001b[0m \u001b[38;5;28;01mif\u001b[39;00m __body \u001b[38;5;129;01mis\u001b[39;00m \u001b[38;5;129;01mnot\u001b[39;00m \u001b[38;5;28;01mNone\u001b[39;00m:\n\u001b[1;32m   3672\u001b[0m     __headers[\u001b[38;5;124m\"\u001b[39m\u001b[38;5;124mcontent-type\u001b[39m\u001b[38;5;124m\"\u001b[39m] \u001b[38;5;241m=\u001b[39m \u001b[38;5;124m\"\u001b[39m\u001b[38;5;124mapplication/json\u001b[39m\u001b[38;5;124m\"\u001b[39m\n\u001b[0;32m-> 3673\u001b[0m \u001b[38;5;28;01mreturn\u001b[39;00m \u001b[38;5;28;43mself\u001b[39;49m\u001b[38;5;241;43m.\u001b[39;49m\u001b[43mperform_request\u001b[49m\u001b[43m(\u001b[49m\u001b[43m  \u001b[49m\u001b[38;5;66;43;03m# type: ignore[return-value]\u001b[39;49;00m\n\u001b[1;32m   3674\u001b[0m \u001b[43m    \u001b[49m\u001b[38;5;124;43m\"\u001b[39;49m\u001b[38;5;124;43mPOST\u001b[39;49m\u001b[38;5;124;43m\"\u001b[39;49m\u001b[43m,\u001b[49m\u001b[43m \u001b[49m\u001b[43m__path\u001b[49m\u001b[43m,\u001b[49m\u001b[43m \u001b[49m\u001b[43mparams\u001b[49m\u001b[38;5;241;43m=\u001b[39;49m\u001b[43m__query\u001b[49m\u001b[43m,\u001b[49m\u001b[43m \u001b[49m\u001b[43mheaders\u001b[49m\u001b[38;5;241;43m=\u001b[39;49m\u001b[43m__headers\u001b[49m\u001b[43m,\u001b[49m\u001b[43m \u001b[49m\u001b[43mbody\u001b[49m\u001b[38;5;241;43m=\u001b[39;49m\u001b[43m__body\u001b[49m\n\u001b[1;32m   3675\u001b[0m \u001b[43m\u001b[49m\u001b[43m)\u001b[49m\n",
      "File \u001b[0;32m/opt/conda/lib/python3.9/site-packages/elasticsearch/_sync/client/_base.py:320\u001b[0m, in \u001b[0;36mBaseClient.perform_request\u001b[0;34m(self, method, path, params, headers, body)\u001b[0m\n\u001b[1;32m    317\u001b[0m         \u001b[38;5;28;01mexcept\u001b[39;00m (\u001b[38;5;167;01mValueError\u001b[39;00m, \u001b[38;5;167;01mKeyError\u001b[39;00m, \u001b[38;5;167;01mTypeError\u001b[39;00m):\n\u001b[1;32m    318\u001b[0m             \u001b[38;5;28;01mpass\u001b[39;00m\n\u001b[0;32m--> 320\u001b[0m     \u001b[38;5;28;01mraise\u001b[39;00m HTTP_EXCEPTIONS\u001b[38;5;241m.\u001b[39mget(meta\u001b[38;5;241m.\u001b[39mstatus, ApiError)(\n\u001b[1;32m    321\u001b[0m         message\u001b[38;5;241m=\u001b[39mmessage, meta\u001b[38;5;241m=\u001b[39mmeta, body\u001b[38;5;241m=\u001b[39mresp_body\n\u001b[1;32m    322\u001b[0m     )\n\u001b[1;32m    324\u001b[0m \u001b[38;5;66;03m# 'X-Elastic-Product: Elasticsearch' should be on every 2XX response.\u001b[39;00m\n\u001b[1;32m    325\u001b[0m \u001b[38;5;28;01mif\u001b[39;00m \u001b[38;5;129;01mnot\u001b[39;00m \u001b[38;5;28mself\u001b[39m\u001b[38;5;241m.\u001b[39m_verified_elasticsearch:\n\u001b[1;32m    326\u001b[0m     \u001b[38;5;66;03m# If the header is set we mark the server as verified.\u001b[39;00m\n",
      "\u001b[0;31mBadRequestError\u001b[0m: BadRequestError(400, 'parsing_exception', 'unknown query [coreThermalThrottling]')"
     ]
    }
   ],
   "source": [
    "# Perform a 'match_all' query to fetch all documents from your index (replace 'my_index' with your actual index name)\n",
    "# response = es.search(index=\"hwinfo_test\", body={\n",
    "#     \"query\": {\n",
    "#         \"match_all\": {}\n",
    "#     }\n",
    "# })\n",
    "\n",
    "# new query\n",
    "# response = es.search(index=\"hwinfo_test\", body={\n",
    "#     \"query\": {\n",
    "#         \"range\": {\n",
    "#             \"Time\": {\n",
    "#                 \"gte\": \"02:06:32.910\",\n",
    "#                 \"lte\": \"02:06:35.000\"\n",
    "#             }\n",
    "#         }\n",
    "#     }\n",
    "# })\n",
    "\n",
    "response = es.search(index = \"hwinfo_test\", body = {\n",
    "    \"query\": {\n",
    "        \"coreThermalThrottling\": {\n",
    "        \"field\": \"Core_Thermal_Throttling\",\n",
    "        \"condition\": {\"term\": {\"Core_Thermal_Throttling\": 1}}\n",
    "        }\n",
    "    }\n",
    "})"
   ]
  },
  {
   "cell_type": "code",
   "execution_count": 19,
   "id": "bd287069-4e2f-4e24-9a70-41b1a1721556",
   "metadata": {},
   "outputs": [],
   "source": [
    "# Print the retrieved documents\n",
    "for hit in response['hits']['hits']:\n",
    "    print(hit['_source'])"
   ]
  },
  {
   "cell_type": "code",
   "execution_count": 8,
   "id": "86a2b559-542b-4a22-babe-fdfc92e53000",
   "metadata": {},
   "outputs": [],
   "source": [
    "# creating a new index\n",
    "# index_name = \"hwinfo_test\" # for testing V1.X\n",
    "index_name = \"hwinfo_test_v2.x\" # for testing V2.X\n",
    "# index_name = \"hwinfo\" # original"
   ]
  },
  {
   "cell_type": "code",
   "execution_count": 9,
   "id": "d90a381a-803e-4a24-a0cf-c8e811f666ab",
   "metadata": {},
   "outputs": [
    {
     "data": {
      "text/plain": [
       "ObjectApiResponse({'acknowledged': True, 'shards_acknowledged': True, 'index': 'hwinfo_test_v2.x'})"
      ]
     },
     "execution_count": 9,
     "metadata": {},
     "output_type": "execute_result"
    }
   ],
   "source": [
    "settings = {\n",
    "    \"settings\": {\n",
    "        \"number_of_shards\": 1,\n",
    "        \"number_of_replicas\": 0\n",
    "    },\n",
    "    \"mappings\": {\n",
    "        \"properties\": {\n",
    "            \"Date\": {\"type\": \"keyword\"},\n",
    "            \"Time\": {\"type\": \"keyword\"},\n",
    "            \"Core_VIDs_avg_V\": {\"type\": \"double\"},\n",
    "            \"Core_Clocks_avg_MHz\": {\"type\": \"integer\"},\n",
    "            \"Ring_LLC_Clock_MHz\": {\"type\": \"double\"},\n",
    "            \"Core_Usage_avg_percent\": {\"type\": \"double\"},\n",
    "            \"Core_Temperatures_avg_C\": {\"type\": \"double\"},\n",
    "            \"Core_Distance_to_TjMAX_avg_C\": {\"type\": \"double\"},\n",
    "            \"CPU_Package_C\": {\"type\": \"integer\"},\n",
    "            \"CPU_Package_Power_W\": {\"type\": \"double\"},\n",
    "            \"PL1_Power_Limit_Static_W\": {\"type\": \"double\"},\n",
    "            \"PL1_Power_Limit_Dynamic_W\": {\"type\": \"double\"},\n",
    "            \"PL2_Power_Limit_Static_W\": {\"type\": \"double\"},\n",
    "            \"PL2_Power_Limit_Dynamic_W\": {\"type\": \"double\"},\n",
    "            \"Core_Thermal_Throttling\": {\"type\": \"double\"},\n",
    "            \"CPU_FAN_RPM\": {\"type\": \"integer\"},\n",
    "            \"GPU_FAN_RPM\": {\"type\": \"integer\"},\n",
    "        }\n",
    "    }\n",
    "}\n",
    "\n",
    "# hwinfo_schema = StructType([\n",
    "#     StructField(\"Date\", StringType(), True),\n",
    "#     StructField(\"Time\", StringType(), True),\n",
    "#     StructField(\"Core_VIDs_avg_V\", DoubleType(), True),\n",
    "#     StructField(\"Core_Clocks_avg_MHz\", IntegerType(), True),\n",
    "#     StructField(\"Ring_LLC_Clock_MHz\", DoubleType(), True),\n",
    "#     StructField(\"Core_Usage_avg_percent\", DoubleType(), True),\n",
    "#     StructField(\"Core_Temperatures_avg_C\", DoubleType(), True),\n",
    "#     StructField(\"Core_Distance_to_TjMAX_avg_C\", DoubleType(), True),\n",
    "#     StructField(\"CPU_Package_C\", IntegerType(), True),\n",
    "#     StructField(\"CPU_Package_Power_W\", DoubleType(), True),\n",
    "#     StructField(\"PL1_Power_Limit_Static_W\", DoubleType(), True),\n",
    "#     StructField(\"PL1_Power_Limit_Dynamic_W\", DoubleType(), True),\n",
    "#     StructField(\"PL2_Power_Limit_Static_W\", DoubleType(), True),\n",
    "#     StructField(\"PL2_Power_Limit_Dynamic_W\", DoubleType(), True)\n",
    "# ])\n",
    "\n",
    "# Create the index\n",
    "es.indices.create(index=index_name, body=settings)"
   ]
  },
  {
   "cell_type": "code",
   "execution_count": 9,
   "id": "0080b34d-2190-4fc0-be0c-ca6bea9b1dc6",
   "metadata": {},
   "outputs": [
    {
     "name": "stderr",
     "output_type": "stream",
     "text": [
      "/tmp/ipykernel_74/3232768211.py:1: DeprecationWarning: Passing transport options in the API method is deprecated. Use 'Elasticsearch.options()' instead.\n",
      "  es.indices.delete(index = index_name, ignore=[404, 400])\n"
     ]
    },
    {
     "data": {
      "text/plain": [
       "ObjectApiResponse({'acknowledged': True})"
      ]
     },
     "execution_count": 9,
     "metadata": {},
     "output_type": "execute_result"
    }
   ],
   "source": [
    "es.indices.delete(index = index_name, ignore=[404, 400])"
   ]
  },
  {
   "cell_type": "code",
   "execution_count": 10,
   "id": "060f74f0-9eaf-48f3-b281-41a5355882d5",
   "metadata": {},
   "outputs": [
    {
     "name": "stdout",
     "output_type": "stream",
     "text": [
      "{'hwinfo_test_v2.x': {'mappings': {'properties': {'CPU_FAN_RPM': {'type': 'integer'}, 'CPU_Package_C': {'type': 'integer'}, 'CPU_Package_Power_W': {'type': 'double'}, 'Core_Clocks_avg_MHz': {'type': 'integer'}, 'Core_Distance_to_TjMAX_avg_C': {'type': 'double'}, 'Core_Temperatures_avg_C': {'type': 'double'}, 'Core_Thermal_Throttling': {'type': 'double'}, 'Core_Usage_avg_percent': {'type': 'double'}, 'Core_VIDs_avg_V': {'type': 'double'}, 'Date': {'type': 'keyword'}, 'GPU_FAN_RPM': {'type': 'integer'}, 'PL1_Power_Limit_Dynamic_W': {'type': 'double'}, 'PL1_Power_Limit_Static_W': {'type': 'double'}, 'PL2_Power_Limit_Dynamic_W': {'type': 'double'}, 'PL2_Power_Limit_Static_W': {'type': 'double'}, 'Ring_LLC_Clock_MHz': {'type': 'double'}, 'Time': {'type': 'keyword'}}}}}\n"
     ]
    }
   ],
   "source": [
    "mapping = es.indices.get_mapping(index=\"hwinfo_test\")\n",
    "mapping = es.indices.get_mapping(index = \"hwinfo_test_v2.x\")\n",
    "print(mapping)"
   ]
  },
  {
   "cell_type": "code",
   "execution_count": null,
   "id": "93054f81-4e68-4751-855e-e49d96c02ee1",
   "metadata": {},
   "outputs": [],
   "source": []
  }
 ],
 "metadata": {
  "kernelspec": {
   "display_name": "Python 3 (ipykernel)",
   "language": "python",
   "name": "python3"
  },
  "language_info": {
   "codemirror_mode": {
    "name": "ipython",
    "version": 3
   },
   "file_extension": ".py",
   "mimetype": "text/x-python",
   "name": "python",
   "nbconvert_exporter": "python",
   "pygments_lexer": "ipython3",
   "version": "3.9.13"
  }
 },
 "nbformat": 4,
 "nbformat_minor": 5
}
