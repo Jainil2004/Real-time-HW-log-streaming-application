{
 "cells": [
  {
   "cell_type": "code",
   "execution_count": 10,
   "id": "8ebc571d-e0c6-4add-94bb-9fc3bf84c56b",
   "metadata": {},
   "outputs": [],
   "source": [
    "from pyspark.sql import SparkSession\n",
    "from pyspark.sql.functions import expr"
   ]
  },
  {
   "cell_type": "code",
   "execution_count": 11,
   "id": "3a3a80bc-3c42-484d-b06c-c18eae2e41b5",
   "metadata": {},
   "outputs": [],
   "source": [
    "# Initialize SparkSession\n",
    "spark = SparkSession.builder \\\n",
    "    .appName(\"KafkaSparkIntegration\") \\\n",
    "    .config(\"spark.jars.packages\", \"org.apache.spark:spark-sql-kafka-0-10_2.12:3.3.2\") \\\n",
    "    .getOrCreate()"
   ]
  },
  {
   "cell_type": "code",
   "execution_count": 12,
   "id": "d565828c-4b75-4ffa-91b9-d9bad30fd46f",
   "metadata": {},
   "outputs": [
    {
     "data": {
      "text/html": [
       "\n",
       "            <div>\n",
       "                <p><b>SparkSession - in-memory</b></p>\n",
       "                \n",
       "        <div>\n",
       "            <p><b>SparkContext</b></p>\n",
       "\n",
       "            <p><a href=\"http://84cc2f90a1b3:4040\">Spark UI</a></p>\n",
       "\n",
       "            <dl>\n",
       "              <dt>Version</dt>\n",
       "                <dd><code>v3.3.0</code></dd>\n",
       "              <dt>Master</dt>\n",
       "                <dd><code>local[*]</code></dd>\n",
       "              <dt>AppName</dt>\n",
       "                <dd><code>KafkaSparkIntegration</code></dd>\n",
       "            </dl>\n",
       "        </div>\n",
       "        \n",
       "            </div>\n",
       "        "
      ],
      "text/plain": [
       "<pyspark.sql.session.SparkSession at 0x7f9c19854520>"
      ]
     },
     "execution_count": 12,
     "metadata": {},
     "output_type": "execute_result"
    }
   ],
   "source": [
    "spark"
   ]
  },
  {
   "cell_type": "code",
   "execution_count": 13,
   "id": "80e2cfc8-181f-41e6-a025-5197b81eb1f2",
   "metadata": {},
   "outputs": [],
   "source": [
    "bootstrap_server = 'kafka:9092'\n",
    "topic = 'hwinfo'"
   ]
  },
  {
   "cell_type": "code",
   "execution_count": 14,
   "id": "947e8c3c-3616-4a3c-be9f-f0d152eb92fd",
   "metadata": {},
   "outputs": [],
   "source": [
    "DataStream = spark.readStream.format(\"kafka\").option(\"kafka.bootstrap.servers\", bootstrap_server).option(\"subscribe\", topic).load()"
   ]
  },
  {
   "cell_type": "code",
   "execution_count": 6,
   "id": "1cb0c973-7fcb-45c7-9ea2-47ff9b5bd16e",
   "metadata": {},
   "outputs": [
    {
     "name": "stdout",
     "output_type": "stream",
     "text": [
      "root\n",
      " |-- key: binary (nullable = true)\n",
      " |-- value: binary (nullable = true)\n",
      " |-- topic: string (nullable = true)\n",
      " |-- partition: integer (nullable = true)\n",
      " |-- offset: long (nullable = true)\n",
      " |-- timestamp: timestamp (nullable = true)\n",
      " |-- timestampType: integer (nullable = true)\n",
      "\n"
     ]
    }
   ],
   "source": [
    "DataStream.printSchema()"
   ]
  },
  {
   "cell_type": "code",
   "execution_count": 7,
   "id": "8b2e01d4-c0fb-4b87-963d-ba41e153150e",
   "metadata": {},
   "outputs": [],
   "source": [
    "df = DataStream.selectExpr(\"CAST(value AS STRING)\")"
   ]
  },
  {
   "cell_type": "code",
   "execution_count": 8,
   "id": "84e319a7-ea4b-4da3-b073-f494f4b1487a",
   "metadata": {},
   "outputs": [],
   "source": [
    "query = df.writeStream.outputMode(\"append\").format(\"console\").start()"
   ]
  },
  {
   "cell_type": "code",
   "execution_count": 9,
   "id": "77a72940-afe8-4850-ad93-350d18b61af6",
   "metadata": {},
   "outputs": [],
   "source": [
    "query.stop()"
   ]
  },
  {
   "cell_type": "code",
   "execution_count": null,
   "id": "61bce1f4-e3ae-45e6-b6d2-ac9afd95ce2e",
   "metadata": {},
   "outputs": [],
   "source": []
  }
 ],
 "metadata": {
  "kernelspec": {
   "display_name": "Python 3 (ipykernel)",
   "language": "python",
   "name": "python3"
  },
  "language_info": {
   "codemirror_mode": {
    "name": "ipython",
    "version": 3
   },
   "file_extension": ".py",
   "mimetype": "text/x-python",
   "name": "python",
   "nbconvert_exporter": "python",
   "pygments_lexer": "ipython3",
   "version": "3.9.13"
  }
 },
 "nbformat": 4,
 "nbformat_minor": 5
}
