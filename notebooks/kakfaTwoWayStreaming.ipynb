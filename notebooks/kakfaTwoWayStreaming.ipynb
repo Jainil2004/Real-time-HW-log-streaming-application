{
 "cells": [
  {
   "cell_type": "code",
   "execution_count": 1,
   "id": "c83976f3-aa6c-4572-9b15-cd76ed13ab94",
   "metadata": {},
   "outputs": [],
   "source": [
    "import csv\n",
    "import time\n",
    "from confluent_kafka import Producer"
   ]
  },
  {
   "cell_type": "code",
   "execution_count": 2,
   "id": "01a6fb0e-9b38-42c2-885e-35d49e57d8a1",
   "metadata": {},
   "outputs": [],
   "source": [
    "bootstrap_server = \"kafka:9092\"\n",
    "kafka_ES_storage = \"hwinfo\"\n",
    "# kafka_RT_dashboard = \"hwinfo_logs_RT\" # do not touch or uncomment"
   ]
  },
  {
   "cell_type": "code",
   "execution_count": 3,
   "id": "3beb0cdf-5fd8-40b4-b101-8f980b243ccd",
   "metadata": {},
   "outputs": [],
   "source": [
    "producer = Producer({\"bootstrap.servers\": bootstrap_server})"
   ]
  },
  {
   "cell_type": "code",
   "execution_count": 4,
   "id": "8abfd549-e6de-4dc9-9e3e-dc71367b3a70",
   "metadata": {},
   "outputs": [],
   "source": [
    "hwinfo_logs_file = 'test1.csv'"
   ]
  },
  {
   "cell_type": "code",
   "execution_count": 5,
   "id": "7f0c3592-3852-460a-b33e-5afc3e04167d",
   "metadata": {},
   "outputs": [],
   "source": [
    "def delivery_report(err, msg):\n",
    "    if err is not None:\n",
    "        print(f\"failure in delivering messages: {err}\")"
   ]
  },
  {
   "cell_type": "code",
   "execution_count": 6,
   "id": "889180b6-9ba2-4a46-a92b-201792b01f7f",
   "metadata": {},
   "outputs": [],
   "source": [
    "# def send_data(hwinfo_csv):\n",
    "#     last_pos = 0\n",
    "#     while True:\n",
    "#         with open(hwinfo_csv, mode = 'r', encoding='ISO-8859-1') as file:\n",
    "#             file.seek(last_pos)\n",
    "#             reader = csv.reader(file)\n",
    "#             for row in reader:\n",
    "#                 producer.produce(kafka_ES_storage, value = str(row).encode('utf-8'), callback = delivery_report)\n",
    "#                 producer.produce(kafka_RT_dashboard, value = str(row).encode('utf-8'), callback = delivery_report)\n",
    "#                 # print(f\"sent row data to kakfa: {row}\")\n",
    "#             last_pos = file.tell()\n",
    "#         producer.poll(1)\n",
    "#         time.sleep(1)"
   ]
  },
  {
   "cell_type": "code",
   "execution_count": 7,
   "id": "e521aeab-6f15-4db1-b45e-442cd975142b",
   "metadata": {},
   "outputs": [],
   "source": [
    "def send_data(hwinfo_csv):\n",
    "    last_pos = 0  # Track last read position\n",
    "    \n",
    "    while True:\n",
    "        try:\n",
    "            with open(hwinfo_csv, mode=\"r\", encoding=\"ISO-8859-1\") as file:\n",
    "                file.seek(last_pos)  # Move to last read position\n",
    "                reader = csv.reader(file)\n",
    "\n",
    "                for row in reader:\n",
    "                    message = str(row).encode(\"utf-8\")\n",
    "\n",
    "                    # Send to both Kafka topics\n",
    "                    producer.produce(kafka_ES_storage, value = str(row).encode('utf-8'), callback = delivery_report)\n",
    "                    \n",
    "                    \n",
    "                    # this thing is for spark only DO NOT UNCOMMENT\n",
    "                    # producer.produce(kafka_RT_dashboard, value = str(row).encode('utf-8'), callback = delivery_report) \n",
    "\n",
    "                last_pos = file.tell()  # Update last read position\n",
    "\n",
    "            producer.poll(0)  # Process Kafka events\n",
    "            producer.flush()   # Ensure messages are sent\n",
    "            time.sleep(1)      # Reduce CPU usage\n",
    "\n",
    "        except Exception as e:\n",
    "            print(f\"Error in reading log file: {e}\")\n",
    "            time.sleep(2)  # Avoid crash-looping\n"
   ]
  },
  {
   "cell_type": "code",
   "execution_count": 8,
   "id": "e237e421-dbe8-44ac-9ad8-89a199f9e139",
   "metadata": {},
   "outputs": [
    {
     "ename": "KeyboardInterrupt",
     "evalue": "",
     "output_type": "error",
     "traceback": [
      "\u001b[0;31m---------------------------------------------------------------------------\u001b[0m",
      "\u001b[0;31mKeyboardInterrupt\u001b[0m                         Traceback (most recent call last)",
      "Cell \u001b[0;32mIn [8], line 1\u001b[0m\n\u001b[0;32m----> 1\u001b[0m \u001b[43msend_data\u001b[49m\u001b[43m(\u001b[49m\u001b[43mhwinfo_logs_file\u001b[49m\u001b[43m)\u001b[49m\n",
      "Cell \u001b[0;32mIn [7], line 24\u001b[0m, in \u001b[0;36msend_data\u001b[0;34m(hwinfo_csv)\u001b[0m\n\u001b[1;32m     22\u001b[0m     producer\u001b[38;5;241m.\u001b[39mpoll(\u001b[38;5;241m0\u001b[39m)  \u001b[38;5;66;03m# Process Kafka events\u001b[39;00m\n\u001b[1;32m     23\u001b[0m     producer\u001b[38;5;241m.\u001b[39mflush()   \u001b[38;5;66;03m# Ensure messages are sent\u001b[39;00m\n\u001b[0;32m---> 24\u001b[0m     \u001b[43mtime\u001b[49m\u001b[38;5;241;43m.\u001b[39;49m\u001b[43msleep\u001b[49m\u001b[43m(\u001b[49m\u001b[38;5;241;43m1\u001b[39;49m\u001b[43m)\u001b[49m      \u001b[38;5;66;03m# Reduce CPU usage\u001b[39;00m\n\u001b[1;32m     26\u001b[0m \u001b[38;5;28;01mexcept\u001b[39;00m \u001b[38;5;167;01mException\u001b[39;00m \u001b[38;5;28;01mas\u001b[39;00m e:\n\u001b[1;32m     27\u001b[0m     \u001b[38;5;28mprint\u001b[39m(\u001b[38;5;124mf\u001b[39m\u001b[38;5;124m\"\u001b[39m\u001b[38;5;124mError in reading log file: \u001b[39m\u001b[38;5;132;01m{\u001b[39;00me\u001b[38;5;132;01m}\u001b[39;00m\u001b[38;5;124m\"\u001b[39m)\n",
      "\u001b[0;31mKeyboardInterrupt\u001b[0m: "
     ]
    }
   ],
   "source": [
    "send_data(hwinfo_logs_file)"
   ]
  },
  {
   "cell_type": "code",
   "execution_count": null,
   "id": "98790ede-c233-4ef6-95e7-3a3cdbbb2973",
   "metadata": {},
   "outputs": [],
   "source": []
  },
  {
   "cell_type": "code",
   "execution_count": null,
   "id": "27d9c305-f805-4bc2-831c-61bc45070183",
   "metadata": {},
   "outputs": [],
   "source": []
  }
 ],
 "metadata": {
  "kernelspec": {
   "display_name": "Python 3 (ipykernel)",
   "language": "python",
   "name": "python3"
  },
  "language_info": {
   "codemirror_mode": {
    "name": "ipython",
    "version": 3
   },
   "file_extension": ".py",
   "mimetype": "text/x-python",
   "name": "python",
   "nbconvert_exporter": "python",
   "pygments_lexer": "ipython3",
   "version": "3.9.13"
  }
 },
 "nbformat": 4,
 "nbformat_minor": 5
}
