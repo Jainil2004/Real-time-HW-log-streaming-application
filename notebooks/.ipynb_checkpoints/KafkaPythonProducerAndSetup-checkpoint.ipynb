{
 "cells": [
  {
   "cell_type": "code",
   "execution_count": 1,
   "id": "78150b60-e27a-411f-a6bf-90291a1512db",
   "metadata": {},
   "outputs": [],
   "source": [
    "# !pip list"
   ]
  },
  {
   "cell_type": "code",
   "execution_count": 1,
   "id": "c99cf5bd-9ff7-4191-a1c6-0fad0b31c41f",
   "metadata": {},
   "outputs": [
    {
     "name": "stdout",
     "output_type": "stream",
     "text": [
      "Collecting confluent-kafka\n",
      "  Downloading confluent_kafka-2.8.2-cp39-cp39-manylinux_2_28_x86_64.whl (3.8 MB)\n",
      "\u001b[2K     \u001b[90m━━━━━━━━━━━━━━━━━━━━━━━━━━━━━━━━━━━━━━━━\u001b[0m \u001b[32m3.8/3.8 MB\u001b[0m \u001b[31m1.2 MB/s\u001b[0m eta \u001b[36m0:00:00\u001b[0m00:01\u001b[0m00:01\u001b[0m0m\n",
      "\u001b[?25hInstalling collected packages: confluent-kafka\n",
      "Successfully installed confluent-kafka-2.8.2\n"
     ]
    }
   ],
   "source": [
    "# !pip install confluent-kafka"
   ]
  },
  {
   "cell_type": "code",
   "execution_count": 1,
   "id": "f1c325a7-bd9f-44ab-95a5-4f0442ca8883",
   "metadata": {},
   "outputs": [
    {
     "name": "stdout",
     "output_type": "stream",
     "text": [
      "Name: confluent-kafka\n",
      "Version: 2.8.0\n",
      "Summary: Confluent's Python client for Apache Kafka\n",
      "Home-page: \n",
      "Author: \n",
      "Author-email: \"Confluent Inc.\" <support@confluent.io>\n",
      "License: \n",
      "Location: /opt/conda/lib/python3.9/site-packages\n",
      "Requires: \n",
      "Required-by: \n"
     ]
    }
   ],
   "source": [
    "!pip show confluent-kafka"
   ]
  },
  {
   "cell_type": "code",
   "execution_count": null,
   "id": "c7d2e262-fbfd-4b31-a361-c9745332c351",
   "metadata": {},
   "outputs": [
    {
     "name": "stdout",
     "output_type": "stream",
     "text": [
      "Message delivered to my_topic [0]\n"
     ]
    },
    {
     "data": {
      "text/plain": [
       "0"
      ]
     },
     "execution_count": 3,
     "metadata": {},
     "output_type": "execute_result"
    }
   ],
   "source": [
    "from confluent_kafka import Producer\n",
    "\n",
    "def delivery_report(err, msg):\n",
    "    if err is not None:\n",
    "        print('Message delivery failed: {}'.format(err))\n",
    "    else:\n",
    "        print('Message delivered to {} [{}]'.format(msg.topic(), msg.partition()))\n",
    "\n",
    "producer = Producer({'bootstrap.servers': 'kafka:9092'})\n",
    "\n",
    "# Send a message to Kafka\n",
    "producer.produce('my_topic', value='shit fk', callback=delivery_report)\n",
    "\n",
    "producer.flush()"
   ]
  },
  {
   "cell_type": "code",
   "execution_count": null,
   "id": "ae793e8d-8197-42a1-9d0c-e1a389c25b38",
   "metadata": {},
   "outputs": [],
   "source": []
  }
 ],
 "metadata": {
  "kernelspec": {
   "display_name": "Python 3 (ipykernel)",
   "language": "python",
   "name": "python3"
  },
  "language_info": {
   "codemirror_mode": {
    "name": "ipython",
    "version": 3
   },
   "file_extension": ".py",
   "mimetype": "text/x-python",
   "name": "python",
   "nbconvert_exporter": "python",
   "pygments_lexer": "ipython3",
   "version": "3.9.13"
  }
 },
 "nbformat": 4,
 "nbformat_minor": 5
}
