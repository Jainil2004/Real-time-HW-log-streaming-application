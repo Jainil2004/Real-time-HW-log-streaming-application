{
 "cells": [
  {
   "cell_type": "code",
   "execution_count": 1,
   "id": "b57a5bf0-43a6-4c53-a480-a8c52cccdbec",
   "metadata": {},
   "outputs": [],
   "source": [
    "import csv\n",
    "import time\n",
    "from confluent_kafka import Producer"
   ]
  },
  {
   "cell_type": "code",
   "execution_count": 2,
   "id": "f277d768-0b34-42eb-9c5c-a0da73fc1c1d",
   "metadata": {},
   "outputs": [],
   "source": [
    "bootstrap_server = 'kafka:9092'\n",
    "kafka_topic = 'hwinfo'"
   ]
  },
  {
   "cell_type": "code",
   "execution_count": 3,
   "id": "2406f585-4d12-4edc-bb52-9c0bf683040c",
   "metadata": {},
   "outputs": [],
   "source": [
    "producer = Producer({'bootstrap.servers': bootstrap_server})"
   ]
  },
  {
   "cell_type": "code",
   "execution_count": 4,
   "id": "357a49d4-d086-4866-becf-6e5b4617dd86",
   "metadata": {},
   "outputs": [],
   "source": [
    "hwinfo_csv = 'test1.CSV' # original file modified by HWINFO\n",
    "# hwinfo_csv = 'test1_utf8.CSV' # custom UTF - 8 implementation"
   ]
  },
  {
   "cell_type": "code",
   "execution_count": 5,
   "id": "39f3237d-e7f0-449d-9aca-f43e725d508d",
   "metadata": {},
   "outputs": [
    {
     "data": {
      "text/plain": [
       "'test1_utf8.CSV'"
      ]
     },
     "execution_count": 5,
     "metadata": {},
     "output_type": "execute_result"
    }
   ],
   "source": [
    "hwinfo_csv"
   ]
  },
  {
   "cell_type": "code",
   "execution_count": 6,
   "id": "56d3c15b-3c35-4d31-84b8-e4bb72c40a73",
   "metadata": {},
   "outputs": [],
   "source": [
    "def delivery_report(err, msg):\n",
    "    if err is not None:\n",
    "        print(f\"message delivery failed: {err}\")"
   ]
  },
  {
   "cell_type": "code",
   "execution_count": 7,
   "id": "113a2ad4-7ef4-4910-97fc-c29733d369b0",
   "metadata": {},
   "outputs": [],
   "source": [
    "# original working using file directly modified by HWINFO\n",
    "def send_data(hwinfo_csv):\n",
    "    last_pos = 0\n",
    "    while True:\n",
    "        with open(hwinfo_csv, mode = 'r', encoding='ISO-8859-1') as file:\n",
    "            file.seek(last_pos)\n",
    "            reader = csv.reader(file)\n",
    "            for row in reader:\n",
    "                producer.produce(kafka_topic, value = str(row).encode('utf-8'), callback = delivery_report)\n",
    "                # print(f\"sent row data to kakfa: {row}\")\n",
    "            last_pos = file.tell()\n",
    "        producer.poll(1)\n",
    "        time.sleep(1)"
   ]
  },
  {
   "cell_type": "code",
   "execution_count": 8,
   "id": "56abb60e-cd39-4cfe-8e4a-a59756d583d0",
   "metadata": {},
   "outputs": [],
   "source": [
    "# # using the modified UTF-8 encoded file at root (using custom UTF_8 implementation and is not directly modified by HWINFO)\n",
    "# def send_data(hwinfo_csv):\n",
    "#     last_pos = 0\n",
    "#     while True:\n",
    "#         with open(hwinfo_csv, mode = 'r', encoding='utf-8') as file:\n",
    "#             file.seek(last_pos)\n",
    "#             reader = csv.reader(file)\n",
    "#             for row in reader:\n",
    "#                 producer.produce(kafka_topic, value = str(row), callback = delivery_report)\n",
    "#                 # print(f\"sent row data to kakfa: {row}\")\n",
    "#             last_pos = file.tell()\n",
    "#         producer.poll(1)\n",
    "#         time.sleep(1)"
   ]
  },
  {
   "cell_type": "code",
   "execution_count": null,
   "id": "4ecc16ad-bb2a-4b1a-9085-c09aa4bef387",
   "metadata": {},
   "outputs": [],
   "source": [
    "send_data(hwinfo_csv)"
   ]
  },
  {
   "cell_type": "code",
   "execution_count": 11,
   "id": "cb23ce0a-8191-47a9-9426-ef8548e1ebb9",
   "metadata": {},
   "outputs": [
    {
     "ename": "AttributeError",
     "evalue": "'cimpl.Producer' object has no attribute 'stop'",
     "output_type": "error",
     "traceback": [
      "\u001b[0;31m---------------------------------------------------------------------------\u001b[0m",
      "\u001b[0;31mAttributeError\u001b[0m                            Traceback (most recent call last)",
      "Cell \u001b[0;32mIn [11], line 1\u001b[0m\n\u001b[0;32m----> 1\u001b[0m \u001b[43mproducer\u001b[49m\u001b[38;5;241;43m.\u001b[39;49m\u001b[43mstop\u001b[49m()\n",
      "\u001b[0;31mAttributeError\u001b[0m: 'cimpl.Producer' object has no attribute 'stop'"
     ]
    }
   ],
   "source": [
    "producer.stop()"
   ]
  },
  {
   "cell_type": "code",
   "execution_count": null,
   "id": "af71caa3-efb1-48c1-9cfa-7847cf33f92f",
   "metadata": {},
   "outputs": [],
   "source": []
  }
 ],
 "metadata": {
  "kernelspec": {
   "display_name": "Python 3 (ipykernel)",
   "language": "python",
   "name": "python3"
  },
  "language_info": {
   "codemirror_mode": {
    "name": "ipython",
    "version": 3
   },
   "file_extension": ".py",
   "mimetype": "text/x-python",
   "name": "python",
   "nbconvert_exporter": "python",
   "pygments_lexer": "ipython3",
   "version": "3.9.13"
  }
 },
 "nbformat": 4,
 "nbformat_minor": 5
}
