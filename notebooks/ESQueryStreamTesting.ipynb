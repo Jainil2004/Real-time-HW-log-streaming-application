{
 "cells": [
  {
   "cell_type": "code",
   "execution_count": 1,
   "id": "adde6d9c-e819-46a8-ae8d-6e41e98d9de8",
   "metadata": {},
   "outputs": [],
   "source": [
    "from elasticsearch import Elasticsearch"
   ]
  },
  {
   "cell_type": "code",
   "execution_count": 2,
   "id": "e36bbfdd-60df-4199-b73b-1c35c647cbaa",
   "metadata": {},
   "outputs": [],
   "source": [
    "es = Elasticsearch(hosts = [\"http://elasticsearch:9200\"])"
   ]
  },
  {
   "cell_type": "code",
   "execution_count": 3,
   "id": "2fa1e8cb-e94a-4851-aaa0-1f0e70a6184b",
   "metadata": {},
   "outputs": [
    {
     "data": {
      "text/plain": [
       "<Elasticsearch(['http://elasticsearch:9200'])>"
      ]
     },
     "execution_count": 3,
     "metadata": {},
     "output_type": "execute_result"
    }
   ],
   "source": [
    "es"
   ]
  },
  {
   "cell_type": "code",
   "execution_count": 4,
   "id": "a5714639-dbac-4962-8a69-9d366fd2af17",
   "metadata": {},
   "outputs": [
    {
     "name": "stdout",
     "output_type": "stream",
     "text": [
      "Successfully connected to Elasticsearch!\n"
     ]
    }
   ],
   "source": [
    "# Test the connection\n",
    "if es.ping():\n",
    "    print(\"Successfully connected to Elasticsearch!\")\n",
    "else:\n",
    "    print(\"Could not connect to Elasticsearch.\")"
   ]
  },
  {
   "cell_type": "code",
   "execution_count": 14,
   "id": "ff990649-d846-4799-8ee8-399e0c3426d1",
   "metadata": {},
   "outputs": [],
   "source": [
    "# Perform a 'match_all' query to fetch all documents from your index (replace 'my_index' with your actual index name)\n",
    "response = es.search(index=\"my_index\", body={\n",
    "    \"query\": {\n",
    "        \"match_all\": {}\n",
    "    }\n",
    "})"
   ]
  },
  {
   "cell_type": "code",
   "execution_count": 15,
   "id": "290fbd03-583c-4b19-9491-ae5de54c6942",
   "metadata": {},
   "outputs": [
    {
     "name": "stdout",
     "output_type": "stream",
     "text": [
      "{'message': 'hello'}\n",
      "{'message': 'data is coming bro'}\n",
      "{'message': 'is this shit working?'}\n",
      "{'message': 'yes this shit is working well done'}\n"
     ]
    }
   ],
   "source": [
    "# Print the retrieved documents\n",
    "for hit in response['hits']['hits']:\n",
    "    print(hit['_source'])"
   ]
  },
  {
   "cell_type": "code",
   "execution_count": 16,
   "id": "28707f69-30e3-4196-b07f-fdeee0edf5f4",
   "metadata": {},
   "outputs": [],
   "source": [
    "# Create the index\n",
    "index_name = \"my_index\"\n",
    "# es.indices.create(index=index_name)"
   ]
  },
  {
   "cell_type": "code",
   "execution_count": null,
   "id": "5cea93cf-5e00-48f0-9d83-7c1392dab161",
   "metadata": {},
   "outputs": [],
   "source": []
  }
 ],
 "metadata": {
  "kernelspec": {
   "display_name": "Python 3 (ipykernel)",
   "language": "python",
   "name": "python3"
  },
  "language_info": {
   "codemirror_mode": {
    "name": "ipython",
    "version": 3
   },
   "file_extension": ".py",
   "mimetype": "text/x-python",
   "name": "python",
   "nbconvert_exporter": "python",
   "pygments_lexer": "ipython3",
   "version": "3.9.13"
  }
 },
 "nbformat": 4,
 "nbformat_minor": 5
}
