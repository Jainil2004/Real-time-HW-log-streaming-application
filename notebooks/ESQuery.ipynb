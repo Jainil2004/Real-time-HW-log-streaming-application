{
 "cells": [
  {
   "cell_type": "code",
   "execution_count": 1,
   "id": "ffa755fd-04fe-4635-8506-a0c35e29c6c5",
   "metadata": {},
   "outputs": [
    {
     "name": "stdout",
     "output_type": "stream",
     "text": [
      "Collecting elasticsearch==8.10.1\n",
      "  Downloading elasticsearch-8.10.1-py3-none-any.whl (409 kB)\n",
      "\u001b[2K     \u001b[90m━━━━━━━━━━━━━━━━━━━━━━━━━━━━━━━━━━━━━━━\u001b[0m \u001b[32m409.3/409.3 kB\u001b[0m \u001b[31m1.1 MB/s\u001b[0m eta \u001b[36m0:00:00\u001b[0m00:01\u001b[0m00:01\u001b[0m\n",
      "\u001b[?25hCollecting elastic-transport<9,>=8\n",
      "  Downloading elastic_transport-8.17.1-py3-none-any.whl (64 kB)\n",
      "\u001b[2K     \u001b[90m━━━━━━━━━━━━━━━━━━━━━━━━━━━━━━━━━━━━━━━━\u001b[0m \u001b[32m65.0/65.0 kB\u001b[0m \u001b[31m3.8 MB/s\u001b[0m eta \u001b[36m0:00:00\u001b[0m\n",
      "\u001b[?25hRequirement already satisfied: urllib3<3,>=1.26.2 in /opt/conda/lib/python3.9/site-packages (from elastic-transport<9,>=8->elasticsearch==8.10.1) (1.26.11)\n",
      "Requirement already satisfied: certifi in /opt/conda/lib/python3.9/site-packages (from elastic-transport<9,>=8->elasticsearch==8.10.1) (2022.9.24)\n",
      "Installing collected packages: elastic-transport, elasticsearch\n",
      "Successfully installed elastic-transport-8.17.1 elasticsearch-8.10.1\n"
     ]
    }
   ],
   "source": [
    "# !pip install elasticsearch==8.10.1"
   ]
  },
  {
   "cell_type": "code",
   "execution_count": 2,
   "id": "0c271a48-dcb5-426b-b534-f60c02741bbc",
   "metadata": {},
   "outputs": [],
   "source": [
    "from elasticsearch import Elasticsearch"
   ]
  },
  {
   "cell_type": "code",
   "execution_count": 3,
   "id": "2914ba8f-c7ec-4aba-b535-65a36a718c7c",
   "metadata": {},
   "outputs": [],
   "source": [
    "es = Elasticsearch(hosts=[\"http://elasticsearch:9200\"])"
   ]
  },
  {
   "cell_type": "code",
   "execution_count": 4,
   "id": "ba8d3d3d-e89f-49c7-b111-ab85934339cc",
   "metadata": {},
   "outputs": [
    {
     "name": "stdout",
     "output_type": "stream",
     "text": [
      "Successfully connected to Elasticsearch!\n"
     ]
    }
   ],
   "source": [
    "# Test the connection\n",
    "if es.ping():\n",
    "    print(\"Successfully connected to Elasticsearch!\")\n",
    "else:\n",
    "    print(\"Could not connect to Elasticsearch.\")"
   ]
  },
  {
   "cell_type": "code",
   "execution_count": 5,
   "id": "dfa53471-6f6a-451d-8109-ea78d18842fb",
   "metadata": {},
   "outputs": [
    {
     "data": {
      "text/plain": [
       "<Elasticsearch(['http://elasticsearch:9200'])>"
      ]
     },
     "execution_count": 5,
     "metadata": {},
     "output_type": "execute_result"
    }
   ],
   "source": [
    "es"
   ]
  },
  {
   "cell_type": "code",
   "execution_count": 6,
   "id": "44233ffa-c32a-4a8b-90ed-5bb40ab3b063",
   "metadata": {},
   "outputs": [
    {
     "data": {
      "text/plain": [
       "True"
      ]
     },
     "execution_count": 6,
     "metadata": {},
     "output_type": "execute_result"
    }
   ],
   "source": [
    "es.ping()"
   ]
  },
  {
   "cell_type": "code",
   "execution_count": 13,
   "id": "bb505851-a27e-4b68-8d76-534da15d9436",
   "metadata": {},
   "outputs": [],
   "source": [
    "# Perform a 'match_all' query to fetch all documents from your index (replace 'my_index' with your actual index name)\n",
    "response = es.search(index=\"hwinfo_test\", body={\n",
    "    \"query\": {\n",
    "        \"match_all\": {}\n",
    "    }\n",
    "})"
   ]
  },
  {
   "cell_type": "code",
   "execution_count": 14,
   "id": "bd287069-4e2f-4e24-9a70-41b1a1721556",
   "metadata": {},
   "outputs": [
    {
     "name": "stdout",
     "output_type": "stream",
     "text": [
      "{'Date': '30.3.2025', 'Time': ' 2:5:38.333', 'Core_VIDs_avg_V': 0.854, 'Core_Clocks_avg_MHz': 2053, 'Ring_LLC_Clock_MHz': 1695.9, 'Core_Usage_avg_percent': 3.5, 'Core_Temperatures_avg_C': 41.0, 'Core_Distance_to_TjMAX_avg_C': 59.0, 'CPU_Package_C': 46, 'CPU_Package_Power_W': 11.878, 'PL1_Power_Limit_Static_W': 140.0, 'PL1_Power_Limit_Dynamic_W': 35.0, 'PL2_Power_Limit_Static_W': 190.0, 'PL2_Power_Limit_Dynamic_W': 44.0, 'Core_Thermal_Throttling': 0.0}\n",
      "{'Date': '30.3.2025', 'Time': ' 2:5:39.203', 'Core_VIDs_avg_V': 0.794, 'Core_Clocks_avg_MHz': 1434, 'Ring_LLC_Clock_MHz': 798.0, 'Core_Usage_avg_percent': 2.3, 'Core_Temperatures_avg_C': 41.0, 'Core_Distance_to_TjMAX_avg_C': 59.0, 'CPU_Package_C': 46, 'CPU_Package_Power_W': 10.176, 'PL1_Power_Limit_Static_W': 140.0, 'PL1_Power_Limit_Dynamic_W': 35.0, 'PL2_Power_Limit_Static_W': 190.0, 'PL2_Power_Limit_Dynamic_W': 44.0, 'Core_Thermal_Throttling': 0.0}\n",
      "{'Date': '30.3.2025', 'Time': ' 2:5:40.372', 'Core_VIDs_avg_V': 0.831, 'Core_Clocks_avg_MHz': 1858, 'Ring_LLC_Clock_MHz': 897.8, 'Core_Usage_avg_percent': 4.0, 'Core_Temperatures_avg_C': 41.0, 'Core_Distance_to_TjMAX_avg_C': 59.0, 'CPU_Package_C': 46, 'CPU_Package_Power_W': 11.113, 'PL1_Power_Limit_Static_W': 140.0, 'PL1_Power_Limit_Dynamic_W': 35.0, 'PL2_Power_Limit_Static_W': 190.0, 'PL2_Power_Limit_Dynamic_W': 44.0, 'Core_Thermal_Throttling': 0.0}\n",
      "{'Date': '30.3.2025', 'Time': ' 2:5:41.227', 'Core_VIDs_avg_V': 0.802, 'Core_Clocks_avg_MHz': 1575, 'Ring_LLC_Clock_MHz': 798.0, 'Core_Usage_avg_percent': 1.5, 'Core_Temperatures_avg_C': 42.0, 'Core_Distance_to_TjMAX_avg_C': 58.0, 'CPU_Package_C': 46, 'CPU_Package_Power_W': 7.211, 'PL1_Power_Limit_Static_W': 140.0, 'PL1_Power_Limit_Dynamic_W': 35.0, 'PL2_Power_Limit_Static_W': 190.0, 'PL2_Power_Limit_Dynamic_W': 44.0, 'Core_Thermal_Throttling': 0.0}\n",
      "{'Date': '30.3.2025', 'Time': ' 2:5:42.459', 'Core_VIDs_avg_V': 0.796, 'Core_Clocks_avg_MHz': 1488, 'Ring_LLC_Clock_MHz': 897.8, 'Core_Usage_avg_percent': 7.9, 'Core_Temperatures_avg_C': 42.0, 'Core_Distance_to_TjMAX_avg_C': 58.0, 'CPU_Package_C': 46, 'CPU_Package_Power_W': 12.405, 'PL1_Power_Limit_Static_W': 140.0, 'PL1_Power_Limit_Dynamic_W': 35.0, 'PL2_Power_Limit_Static_W': 190.0, 'PL2_Power_Limit_Dynamic_W': 44.0, 'Core_Thermal_Throttling': 0.0}\n",
      "{'Date': '30.3.2025', 'Time': ' 2:5:43.236', 'Core_VIDs_avg_V': 0.79, 'Core_Clocks_avg_MHz': 1425, 'Ring_LLC_Clock_MHz': 798.0, 'Core_Usage_avg_percent': 14.3, 'Core_Temperatures_avg_C': 41.0, 'Core_Distance_to_TjMAX_avg_C': 59.0, 'CPU_Package_C': 46, 'CPU_Package_Power_W': 15.671, 'PL1_Power_Limit_Static_W': 140.0, 'PL1_Power_Limit_Dynamic_W': 35.0, 'PL2_Power_Limit_Static_W': 190.0, 'PL2_Power_Limit_Dynamic_W': 44.0, 'Core_Thermal_Throttling': 0.0}\n",
      "{'Date': '30.3.2025', 'Time': ' 2:5:44.411', 'Core_VIDs_avg_V': 0.789, 'Core_Clocks_avg_MHz': 1392, 'Ring_LLC_Clock_MHz': 798.0, 'Core_Usage_avg_percent': 13.9, 'Core_Temperatures_avg_C': 42.0, 'Core_Distance_to_TjMAX_avg_C': 58.0, 'CPU_Package_C': 46, 'CPU_Package_Power_W': 15.132, 'PL1_Power_Limit_Static_W': 140.0, 'PL1_Power_Limit_Dynamic_W': 35.0, 'PL2_Power_Limit_Static_W': 190.0, 'PL2_Power_Limit_Dynamic_W': 44.0, 'Core_Thermal_Throttling': 0.0}\n",
      "{'Date': '30.3.2025', 'Time': ' 2:5:45.286', 'Core_VIDs_avg_V': 0.804, 'Core_Clocks_avg_MHz': 1604, 'Ring_LLC_Clock_MHz': 897.8, 'Core_Usage_avg_percent': 3.5, 'Core_Temperatures_avg_C': 41.0, 'Core_Distance_to_TjMAX_avg_C': 59.0, 'CPU_Package_C': 46, 'CPU_Package_Power_W': 9.264, 'PL1_Power_Limit_Static_W': 140.0, 'PL1_Power_Limit_Dynamic_W': 35.0, 'PL2_Power_Limit_Static_W': 190.0, 'PL2_Power_Limit_Dynamic_W': 44.0, 'Core_Thermal_Throttling': 0.0}\n",
      "{'Date': '30.3.2025', 'Time': ' 2:5:46.448', 'Core_VIDs_avg_V': 0.821, 'Core_Clocks_avg_MHz': 1712, 'Ring_LLC_Clock_MHz': 798.0, 'Core_Usage_avg_percent': 4.1, 'Core_Temperatures_avg_C': 41.0, 'Core_Distance_to_TjMAX_avg_C': 59.0, 'CPU_Package_C': 46, 'CPU_Package_Power_W': 9.978, 'PL1_Power_Limit_Static_W': 140.0, 'PL1_Power_Limit_Dynamic_W': 35.0, 'PL2_Power_Limit_Static_W': 190.0, 'PL2_Power_Limit_Dynamic_W': 44.0, 'Core_Thermal_Throttling': 0.0}\n",
      "{'Date': '30.3.2025', 'Time': ' 2:5:47.285', 'Core_VIDs_avg_V': 0.782, 'Core_Clocks_avg_MHz': 1296, 'Ring_LLC_Clock_MHz': 798.0, 'Core_Usage_avg_percent': 6.7, 'Core_Temperatures_avg_C': 42.0, 'Core_Distance_to_TjMAX_avg_C': 58.0, 'CPU_Package_C': 46, 'CPU_Package_Power_W': 13.395, 'PL1_Power_Limit_Static_W': 140.0, 'PL1_Power_Limit_Dynamic_W': 35.0, 'PL2_Power_Limit_Static_W': 190.0, 'PL2_Power_Limit_Dynamic_W': 44.0, 'Core_Thermal_Throttling': 0.0}\n"
     ]
    }
   ],
   "source": [
    "# Print the retrieved documents\n",
    "for hit in response['hits']['hits']:\n",
    "    print(hit['_source'])"
   ]
  },
  {
   "cell_type": "code",
   "execution_count": 9,
   "id": "86a2b559-542b-4a22-babe-fdfc92e53000",
   "metadata": {},
   "outputs": [],
   "source": [
    "# creating a new index\n",
    "index_name = \"hwinfo_test\" # for testing\n",
    "# index_name = \"hwinfo\" # original"
   ]
  },
  {
   "cell_type": "code",
   "execution_count": 10,
   "id": "d90a381a-803e-4a24-a0cf-c8e811f666ab",
   "metadata": {},
   "outputs": [
    {
     "data": {
      "text/plain": [
       "ObjectApiResponse({'acknowledged': True, 'shards_acknowledged': True, 'index': 'hwinfo_test'})"
      ]
     },
     "execution_count": 10,
     "metadata": {},
     "output_type": "execute_result"
    }
   ],
   "source": [
    "settings = {\n",
    "    \"settings\": {\n",
    "        \"number_of_shards\": 1,\n",
    "        \"number_of_replicas\": 0\n",
    "    },\n",
    "    \"mappings\": {\n",
    "        \"properties\": {\n",
    "            \"Date\": {\"type\": \"keyword\"},\n",
    "            \"Time\": {\"type\": \"keyword\"},\n",
    "            \"Core_VIDs_avg_V\": {\"type\": \"double\"},\n",
    "            \"Core_Clocks_avg_MHz\": {\"type\": \"integer\"},\n",
    "            \"Ring_LLC_Clock_MHz\": {\"type\": \"double\"},\n",
    "            \"Core_Usage_avg_percent\": {\"type\": \"double\"},\n",
    "            \"Core_Temperatures_avg_C\": {\"type\": \"double\"},\n",
    "            \"Core_Distance_to_TjMAX_avg_C\": {\"type\": \"double\"},\n",
    "            \"CPU_Package_C\": {\"type\": \"integer\"},\n",
    "            \"CPU_Package_Power_W\": {\"type\": \"double\"},\n",
    "            \"PL1_Power_Limit_Static_W\": {\"type\": \"double\"},\n",
    "            \"PL1_Power_Limit_Dynamic_W\": {\"type\": \"double\"},\n",
    "            \"PL2_Power_Limit_Static_W\": {\"type\": \"double\"},\n",
    "            \"PL2_Power_Limit_Dynamic_W\": {\"type\": \"double\"},\n",
    "            \"Core_Thermal_Throttling\": {\"type\": \"double\"}\n",
    "        }\n",
    "    }\n",
    "}\n",
    "\n",
    "# hwinfo_schema = StructType([\n",
    "#     StructField(\"Date\", StringType(), True),\n",
    "#     StructField(\"Time\", StringType(), True),\n",
    "#     StructField(\"Core_VIDs_avg_V\", DoubleType(), True),\n",
    "#     StructField(\"Core_Clocks_avg_MHz\", IntegerType(), True),\n",
    "#     StructField(\"Ring_LLC_Clock_MHz\", DoubleType(), True),\n",
    "#     StructField(\"Core_Usage_avg_percent\", DoubleType(), True),\n",
    "#     StructField(\"Core_Temperatures_avg_C\", DoubleType(), True),\n",
    "#     StructField(\"Core_Distance_to_TjMAX_avg_C\", DoubleType(), True),\n",
    "#     StructField(\"CPU_Package_C\", IntegerType(), True),\n",
    "#     StructField(\"CPU_Package_Power_W\", DoubleType(), True),\n",
    "#     StructField(\"PL1_Power_Limit_Static_W\", DoubleType(), True),\n",
    "#     StructField(\"PL1_Power_Limit_Dynamic_W\", DoubleType(), True),\n",
    "#     StructField(\"PL2_Power_Limit_Static_W\", DoubleType(), True),\n",
    "#     StructField(\"PL2_Power_Limit_Dynamic_W\", DoubleType(), True)\n",
    "# ])\n",
    "\n",
    "# Create the index\n",
    "es.indices.create(index=index_name, body=settings)"
   ]
  },
  {
   "cell_type": "code",
   "execution_count": 9,
   "id": "0080b34d-2190-4fc0-be0c-ca6bea9b1dc6",
   "metadata": {},
   "outputs": [
    {
     "name": "stderr",
     "output_type": "stream",
     "text": [
      "/tmp/ipykernel_74/3232768211.py:1: DeprecationWarning: Passing transport options in the API method is deprecated. Use 'Elasticsearch.options()' instead.\n",
      "  es.indices.delete(index = index_name, ignore=[404, 400])\n"
     ]
    },
    {
     "data": {
      "text/plain": [
       "ObjectApiResponse({'acknowledged': True})"
      ]
     },
     "execution_count": 9,
     "metadata": {},
     "output_type": "execute_result"
    }
   ],
   "source": [
    "es.indices.delete(index = index_name, ignore=[404, 400])"
   ]
  },
  {
   "cell_type": "code",
   "execution_count": null,
   "id": "060f74f0-9eaf-48f3-b281-41a5355882d5",
   "metadata": {},
   "outputs": [],
   "source": []
  }
 ],
 "metadata": {
  "kernelspec": {
   "display_name": "Python 3 (ipykernel)",
   "language": "python",
   "name": "python3"
  },
  "language_info": {
   "codemirror_mode": {
    "name": "ipython",
    "version": 3
   },
   "file_extension": ".py",
   "mimetype": "text/x-python",
   "name": "python",
   "nbconvert_exporter": "python",
   "pygments_lexer": "ipython3",
   "version": "3.9.13"
  }
 },
 "nbformat": 4,
 "nbformat_minor": 5
}
