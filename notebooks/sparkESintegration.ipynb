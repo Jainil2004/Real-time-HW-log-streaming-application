{
 "cells": [
  {
   "cell_type": "code",
   "execution_count": 1,
   "id": "03572437-1ea9-46d8-b6b3-4f1295e839d2",
   "metadata": {},
   "outputs": [],
   "source": [
    "from pyspark.sql import SparkSession"
   ]
  },
  {
   "cell_type": "code",
   "execution_count": 2,
   "id": "a05738c3-35d1-4bf6-8a51-4a040f8887b4",
   "metadata": {},
   "outputs": [],
   "source": [
    "spark = SparkSession.builder \\\n",
    "    .appName(\"KafkaToElasticsearch\") \\\n",
    "    .config(\"spark.jars.packages\", \"org.apache.spark:spark-sql-kafka-0-10_2.12:3.3.2,org.elasticsearch:elasticsearch-spark-30_2.12:8.10.1\") \\\n",
    "    .getOrCreate()"
   ]
  },
  {
   "cell_type": "code",
   "execution_count": 4,
   "id": "6d135e10-20e5-4908-b2f2-d699d4f63f8b",
   "metadata": {},
   "outputs": [
    {
     "data": {
      "text/html": [
       "\n",
       "            <div>\n",
       "                <p><b>SparkSession - in-memory</b></p>\n",
       "                \n",
       "        <div>\n",
       "            <p><b>SparkContext</b></p>\n",
       "\n",
       "            <p><a href=\"http://6b0816de4193:4041\">Spark UI</a></p>\n",
       "\n",
       "            <dl>\n",
       "              <dt>Version</dt>\n",
       "                <dd><code>v3.3.0</code></dd>\n",
       "              <dt>Master</dt>\n",
       "                <dd><code>local[*]</code></dd>\n",
       "              <dt>AppName</dt>\n",
       "                <dd><code>KafkaToElasticsearch</code></dd>\n",
       "            </dl>\n",
       "        </div>\n",
       "        \n",
       "            </div>\n",
       "        "
      ],
      "text/plain": [
       "<pyspark.sql.session.SparkSession at 0x7f5c69e99580>"
      ]
     },
     "execution_count": 4,
     "metadata": {},
     "output_type": "execute_result"
    }
   ],
   "source": [
    "spark"
   ]
  },
  {
   "cell_type": "code",
   "execution_count": 5,
   "id": "3fa1defb-1e1e-4aff-8728-9a4117c88e14",
   "metadata": {},
   "outputs": [],
   "source": [
    "# Read data from Kafka\n",
    "kafka_df = spark.readStream \\\n",
    "    .format(\"kafka\") \\\n",
    "    .option(\"kafka.bootstrap.servers\", \"kafka:9092\") \\\n",
    "    .option(\"subscribe\", \"my_topic\") \\\n",
    "    .load()"
   ]
  },
  {
   "cell_type": "code",
   "execution_count": 6,
   "id": "b62bc9ab-3641-4488-bc1f-c11d034e2749",
   "metadata": {},
   "outputs": [],
   "source": [
    "# Select and process the value (message) column\n",
    "processed_df = kafka_df.selectExpr(\"CAST(value AS STRING) as message\")"
   ]
  },
  {
   "cell_type": "code",
   "execution_count": 7,
   "id": "308d29f3-1761-4644-b8cd-36b7ee72d099",
   "metadata": {},
   "outputs": [
    {
     "name": "stdout",
     "output_type": "stream",
     "text": [
      "root\n",
      " |-- message: string (nullable = true)\n",
      "\n"
     ]
    }
   ],
   "source": [
    "processed_df.printSchema()"
   ]
  },
  {
   "cell_type": "code",
   "execution_count": 9,
   "id": "66ea52f1-af22-48f5-beab-619eafcc7565",
   "metadata": {},
   "outputs": [],
   "source": [
    "es_query = processed_df.writeStream \\\n",
    "    .outputMode(\"append\") \\\n",
    "    .format(\"org.elasticsearch.spark.sql\") \\\n",
    "    .option(\"es.nodes\", \"elasticsearch\") \\\n",
    "    .option(\"es.port\", \"9200\") \\\n",
    "    .option(\"es.resource\", \"my_index\") \\\n",
    "    .option(\"es.net.ssl\", \"false\") \\\n",
    "    .option(\"checkpointLocation\", \"/tmp/spark-checkpoints\") \\\n",
    "    .start()"
   ]
  },
  {
   "cell_type": "code",
   "execution_count": 8,
   "id": "a76885de-1a2e-437e-9297-aff6e9f10bce",
   "metadata": {},
   "outputs": [],
   "source": [
    "es_query.stop()"
   ]
  },
  {
   "cell_type": "code",
   "execution_count": null,
   "id": "e5907091-770b-4f55-b340-95d136756552",
   "metadata": {},
   "outputs": [],
   "source": []
  }
 ],
 "metadata": {
  "kernelspec": {
   "display_name": "Python 3 (ipykernel)",
   "language": "python",
   "name": "python3"
  },
  "language_info": {
   "codemirror_mode": {
    "name": "ipython",
    "version": 3
   },
   "file_extension": ".py",
   "mimetype": "text/x-python",
   "name": "python",
   "nbconvert_exporter": "python",
   "pygments_lexer": "ipython3",
   "version": "3.9.13"
  }
 },
 "nbformat": 4,
 "nbformat_minor": 5
}
