{
 "cells": [
  {
   "cell_type": "code",
   "execution_count": 1,
   "id": "b2ffd9f0-ae24-4503-99a3-fefc86fa4f62",
   "metadata": {},
   "outputs": [
    {
     "name": "stdout",
     "output_type": "stream",
     "text": [
      " * Serving Flask app 'app'\n",
      " * Debug mode: on\n",
      "\u001b[31m\u001b[1mWARNING: This is a development server. Do not use it in a production deployment. Use a production WSGI server instead.\u001b[0m\n",
      " * Running on all addresses (0.0.0.0)\n",
      " * Running on http://127.0.0.1:5000\n",
      " * Running on http://172.18.0.7:5000\n",
      "\u001b[33mPress CTRL+C to quit\u001b[0m\n",
      " * Restarting with stat\n",
      " * Debugger is active!\n",
      " * Debugger PIN: 131-855-509\n",
      "172.18.0.1 - - [20/Mar/2025 08:14:22] \"GET / HTTP/1.1\" 200 -\n",
      "172.18.0.1 - - [20/Mar/2025 08:14:22] \"\u001b[33mGET /favicon.ico HTTP/1.1\u001b[0m\" 404 -\n",
      " * Detected change in '/home/jovyan/work/.ipynb_checkpoints/app-checkpoint.py', reloading\n",
      " * Restarting with stat\n",
      " * Debugger is active!\n",
      " * Debugger PIN: 131-855-509\n",
      "172.18.0.1 - - [20/Mar/2025 08:14:38] \"GET / HTTP/1.1\" 200 -\n",
      "172.18.0.1 - - [20/Mar/2025 08:14:38] \"\u001b[33mGET /favicon.ico HTTP/1.1\u001b[0m\" 404 -\n",
      "172.18.0.1 - - [20/Mar/2025 08:17:44] \"GET / HTTP/1.1\" 200 -\n",
      "172.18.0.1 - - [20/Mar/2025 08:17:51] \"GET / HTTP/1.1\" 200 -\n",
      "172.18.0.1 - - [20/Mar/2025 08:18:29] \"GET / HTTP/1.1\" 200 -\n",
      "172.18.0.1 - - [20/Mar/2025 08:18:29] \"\u001b[33mGET /favicon.ico HTTP/1.1\u001b[0m\" 404 -\n",
      "172.18.0.1 - - [20/Mar/2025 08:19:05] \"GET / HTTP/1.1\" 200 -\n",
      "172.18.0.1 - - [20/Mar/2025 08:19:10] \"GET / HTTP/1.1\" 200 -\n",
      "172.18.0.1 - - [20/Mar/2025 08:19:14] \"GET / HTTP/1.1\" 200 -\n",
      "172.18.0.6 - - [20/Mar/2025 08:20:44] \"GET / HTTP/1.1\" 200 -\n",
      "^C\n"
     ]
    }
   ],
   "source": [
    "!python app.py"
   ]
  },
  {
   "cell_type": "code",
   "execution_count": 1,
   "id": "457d3a34-418c-4d14-9d19-a4a473467aa5",
   "metadata": {},
   "outputs": [
    {
     "name": "stdout",
     "output_type": "stream",
     "text": [
      "Collecting flask\n",
      "  Downloading flask-3.1.0-py3-none-any.whl (102 kB)\n",
      "\u001b[2K     \u001b[90m━━━━━━━━━━━━━━━━━━━━━━━━━━━━━━━━━━━━━\u001b[0m \u001b[32m103.0/103.0 kB\u001b[0m \u001b[31m674.1 kB/s\u001b[0m eta \u001b[36m0:00:00\u001b[0ma \u001b[36m0:00:01\u001b[0m\n",
      "\u001b[?25hRequirement already satisfied: click>=8.1.3 in /opt/conda/lib/python3.9/site-packages (from flask) (8.1.3)\n",
      "Collecting blinker>=1.9\n",
      "  Downloading blinker-1.9.0-py3-none-any.whl (8.5 kB)\n",
      "Collecting Werkzeug>=3.1\n",
      "  Downloading werkzeug-3.1.3-py3-none-any.whl (224 kB)\n",
      "\u001b[2K     \u001b[90m━━━━━━━━━━━━━━━━━━━━━━━━━━━━━━━━━━━━━━━\u001b[0m \u001b[32m224.5/224.5 kB\u001b[0m \u001b[31m1.8 MB/s\u001b[0m eta \u001b[36m0:00:00\u001b[0ma \u001b[36m0:00:01\u001b[0m\n",
      "\u001b[?25hCollecting itsdangerous>=2.2\n",
      "  Downloading itsdangerous-2.2.0-py3-none-any.whl (16 kB)\n",
      "Requirement already satisfied: importlib-metadata>=3.6 in /opt/conda/lib/python3.9/site-packages (from flask) (4.11.4)\n",
      "Requirement already satisfied: Jinja2>=3.1.2 in /opt/conda/lib/python3.9/site-packages (from flask) (3.1.2)\n",
      "Requirement already satisfied: zipp>=0.5 in /opt/conda/lib/python3.9/site-packages (from importlib-metadata>=3.6->flask) (3.9.0)\n",
      "Requirement already satisfied: MarkupSafe>=2.0 in /opt/conda/lib/python3.9/site-packages (from Jinja2>=3.1.2->flask) (2.1.1)\n",
      "Installing collected packages: Werkzeug, itsdangerous, blinker, flask\n",
      "  Attempting uninstall: blinker\n",
      "    Found existing installation: blinker 1.5\n",
      "    Uninstalling blinker-1.5:\n",
      "      Successfully uninstalled blinker-1.5\n",
      "Successfully installed Werkzeug-3.1.3 blinker-1.9.0 flask-3.1.0 itsdangerous-2.2.0\n"
     ]
    }
   ],
   "source": [
    "# !pip install flask"
   ]
  },
  {
   "cell_type": "code",
   "execution_count": null,
   "id": "fd1afea9-fdb8-481f-9f88-966146f807f7",
   "metadata": {},
   "outputs": [],
   "source": []
  }
 ],
 "metadata": {
  "kernelspec": {
   "display_name": "Python 3 (ipykernel)",
   "language": "python",
   "name": "python3"
  },
  "language_info": {
   "codemirror_mode": {
    "name": "ipython",
    "version": 3
   },
   "file_extension": ".py",
   "mimetype": "text/x-python",
   "name": "python",
   "nbconvert_exporter": "python",
   "pygments_lexer": "ipython3",
   "version": "3.9.13"
  }
 },
 "nbformat": 4,
 "nbformat_minor": 5
}
