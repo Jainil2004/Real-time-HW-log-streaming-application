{
 "cells": [
  {
   "cell_type": "code",
   "execution_count": 3,
   "id": "dc1c121b-1e22-4a57-b166-5f165830ffa5",
   "metadata": {},
   "outputs": [],
   "source": [
    "# %pip list"
   ]
  },
  {
   "cell_type": "code",
   "execution_count": 1,
   "id": "a8131ab0-83f3-4f54-ba01-16af6515192a",
   "metadata": {},
   "outputs": [],
   "source": [
    "from pyspark.sql import SparkSession\n",
    "from pyspark.sql.functions import col"
   ]
  },
  {
   "cell_type": "code",
   "execution_count": 2,
   "id": "114a38d5-9b08-45c8-b1aa-41d593b5cc3d",
   "metadata": {},
   "outputs": [],
   "source": [
    "spark = SparkSession.builder.master(\"local\").appName(\"kafka_trash_new\").config(\"spark.jars.packages\", \"org.apache.spark:spark-sql-kafka-0-10_2.12:3.3.2\").getOrCreate()"
   ]
  },
  {
   "cell_type": "code",
   "execution_count": 3,
   "id": "afe82322-0ae0-4b2b-89ff-9fcd61519e4a",
   "metadata": {},
   "outputs": [
    {
     "data": {
      "text/html": [
       "\n",
       "            <div>\n",
       "                <p><b>SparkSession - in-memory</b></p>\n",
       "                \n",
       "        <div>\n",
       "            <p><b>SparkContext</b></p>\n",
       "\n",
       "            <p><a href=\"http://0e17885c4435:4040\">Spark UI</a></p>\n",
       "\n",
       "            <dl>\n",
       "              <dt>Version</dt>\n",
       "                <dd><code>v3.3.0</code></dd>\n",
       "              <dt>Master</dt>\n",
       "                <dd><code>local</code></dd>\n",
       "              <dt>AppName</dt>\n",
       "                <dd><code>kafka_trash_new</code></dd>\n",
       "            </dl>\n",
       "        </div>\n",
       "        \n",
       "            </div>\n",
       "        "
      ],
      "text/plain": [
       "<pyspark.sql.session.SparkSession at 0x7ffa4fedae80>"
      ]
     },
     "execution_count": 3,
     "metadata": {},
     "output_type": "execute_result"
    }
   ],
   "source": [
    "spark"
   ]
  },
  {
   "cell_type": "code",
   "execution_count": 4,
   "id": "73b97f90-ba83-49f0-b44c-99a4e4d609a6",
   "metadata": {},
   "outputs": [
    {
     "data": {
      "text/plain": [
       "'172.18.0.5:9092'"
      ]
     },
     "execution_count": 4,
     "metadata": {},
     "output_type": "execute_result"
    }
   ],
   "source": [
    "kafka_broker = \"172.18.0.6:9092\"\n",
    "kafka_broker"
   ]
  },
  {
   "cell_type": "code",
   "execution_count": 5,
   "id": "8049bc90-1117-4ba9-a948-1d515a698f4e",
   "metadata": {},
   "outputs": [
    {
     "name": "stdout",
     "output_type": "stream",
     "text": [
      "data: [('key1', 'trash1'), ('key2', 'trash2')]\n",
      "dataframe: DataFrame[key: string, value: string]\n"
     ]
    }
   ],
   "source": [
    "data = [(\"key1\", \"trash1\"), (\"key2\", \"trash2\")]\n",
    "df = spark.createDataFrame(data, [\"key\", \"value\"])\n",
    "print(f\"data: {data}\\ndataframe: {df}\")"
   ]
  },
  {
   "cell_type": "code",
   "execution_count": 6,
   "id": "b56d44c0-bf74-4379-95f8-d87c938db4f0",
   "metadata": {},
   "outputs": [
    {
     "data": {
      "text/plain": [
       "DataFrame[Key: string, value: string]"
      ]
     },
     "execution_count": 6,
     "metadata": {},
     "output_type": "execute_result"
    }
   ],
   "source": [
    "df.selectExpr(\"CAST(Key AS STRING)\", \"CAST(value AS STRING)\")"
   ]
  },
  {
   "cell_type": "code",
   "execution_count": 8,
   "id": "23d86207-e0cb-4a1f-bb41-3545f1107380",
   "metadata": {},
   "outputs": [],
   "source": [
    "# intiating writing sequence to kafka\n",
    "# kafka already initialized in docker container running at the broker_id mentioned above\n",
    "# broker port no. usually stays 9092 but the IP can change so use the following function to get kafka IP\n",
    "# docker inspect -f '{{range .NetworkSettings.Networks}}{{.IPAddress}}{{end}}' <kafka_container_id>\n",
    "\n",
    "df.write.format(\"kafka\").option(\"kafka.bootstrap.servers\", kafka_broker).option(\"topic\", \"streaming\").save()"
   ]
  },
  {
   "cell_type": "code",
   "execution_count": null,
   "id": "dc33e908-0968-4a89-9a6b-aed6ef33b014",
   "metadata": {},
   "outputs": [],
   "source": []
  }
 ],
 "metadata": {
  "kernelspec": {
   "display_name": "Python 3 (ipykernel)",
   "language": "python",
   "name": "python3"
  },
  "language_info": {
   "codemirror_mode": {
    "name": "ipython",
    "version": 3
   },
   "file_extension": ".py",
   "mimetype": "text/x-python",
   "name": "python",
   "nbconvert_exporter": "python",
   "pygments_lexer": "ipython3",
   "version": "3.9.13"
  }
 },
 "nbformat": 4,
 "nbformat_minor": 5
}
